{
  "nbformat": 4,
  "nbformat_minor": 0,
  "metadata": {
    "colab": {
      "name": "GPT2 - textgeneration",
      "provenance": [],
      "collapsed_sections": [],
      "machine_shape": "hm",
      "include_colab_link": true
    },
    "kernelspec": {
      "name": "python3",
      "display_name": "Python 3"
    },
    "accelerator": "GPU"
  },
  "cells": [
    {
      "cell_type": "markdown",
      "metadata": {
        "id": "view-in-github",
        "colab_type": "text"
      },
      "source": [
        "<a href=\"https://colab.research.google.com/github/sg-tarek/Python/blob/main/GPT2_textgeneration.ipynb\" target=\"_parent\"><img src=\"https://colab.research.google.com/assets/colab-badge.svg\" alt=\"Open In Colab\"/></a>"
      ]
    },
    {
      "cell_type": "code",
      "metadata": {
        "id": "nr4QL6SPYndp"
      },
      "source": [
        "!pip install simpletransformers"
      ],
      "execution_count": null,
      "outputs": []
    },
    {
      "cell_type": "code",
      "metadata": {
        "id": "jU7OH30iYwxR"
      },
      "source": [
        "import pandas as pd\n",
        "\n",
        "df = pd.read_json(\"https://www.dropbox.com/s/twxfxdln1l5gm3o/tweets_11-06-2020.zip?dl=1\", compression='zip')\n",
        "df = df[df['device'] == 'Twitter for iPhone']\n",
        "df = df[df['isRetweet'] == 'f']"
      ],
      "execution_count": null,
      "outputs": []
    },
    {
      "cell_type": "code",
      "metadata": {
        "colab": {
          "base_uri": "https://localhost:8080/",
          "height": 204
        },
        "id": "ODbCdQo-kLo9",
        "outputId": "c9b1dcdc-5a9b-4eb3-d9e1-bf38003fc8a8"
      },
      "source": [
        "df.head()"
      ],
      "execution_count": null,
      "outputs": [
        {
          "output_type": "execute_result",
          "data": {
            "text/html": [
              "<div>\n",
              "<style scoped>\n",
              "    .dataframe tbody tr th:only-of-type {\n",
              "        vertical-align: middle;\n",
              "    }\n",
              "\n",
              "    .dataframe tbody tr th {\n",
              "        vertical-align: top;\n",
              "    }\n",
              "\n",
              "    .dataframe thead th {\n",
              "        text-align: right;\n",
              "    }\n",
              "</style>\n",
              "<table border=\"1\" class=\"dataframe\">\n",
              "  <thead>\n",
              "    <tr style=\"text-align: right;\">\n",
              "      <th></th>\n",
              "      <th>id</th>\n",
              "      <th>text</th>\n",
              "      <th>isRetweet</th>\n",
              "      <th>isDeleted</th>\n",
              "      <th>device</th>\n",
              "      <th>favorites</th>\n",
              "      <th>retweets</th>\n",
              "      <th>date</th>\n",
              "    </tr>\n",
              "  </thead>\n",
              "  <tbody>\n",
              "    <tr>\n",
              "      <th>1</th>\n",
              "      <td>1234653427789070300</td>\n",
              "      <td>I was thrilled to be back in the Great city of...</td>\n",
              "      <td>f</td>\n",
              "      <td>f</td>\n",
              "      <td>Twitter for iPhone</td>\n",
              "      <td>73748</td>\n",
              "      <td>17404</td>\n",
              "      <td>2020-03-03 01:34:50</td>\n",
              "    </tr>\n",
              "    <tr>\n",
              "      <th>3</th>\n",
              "      <td>1304875170860015600</td>\n",
              "      <td>The Unsolicited Mail In Ballot Scam is a major...</td>\n",
              "      <td>f</td>\n",
              "      <td>f</td>\n",
              "      <td>Twitter for iPhone</td>\n",
              "      <td>80527</td>\n",
              "      <td>23502</td>\n",
              "      <td>2020-09-12 20:10:58</td>\n",
              "    </tr>\n",
              "    <tr>\n",
              "      <th>6</th>\n",
              "      <td>1315779944002199600</td>\n",
              "      <td>“I’m running as a proud Democrat, for the Sena...</td>\n",
              "      <td>f</td>\n",
              "      <td>f</td>\n",
              "      <td>Twitter for iPhone</td>\n",
              "      <td>149007</td>\n",
              "      <td>34897</td>\n",
              "      <td>2020-10-12 22:22:39</td>\n",
              "    </tr>\n",
              "    <tr>\n",
              "      <th>7</th>\n",
              "      <td>1223640662689689600</td>\n",
              "      <td>Getting a little exercise this morning! https:...</td>\n",
              "      <td>f</td>\n",
              "      <td>f</td>\n",
              "      <td>Twitter for iPhone</td>\n",
              "      <td>285863</td>\n",
              "      <td>30209</td>\n",
              "      <td>2020-02-01 16:14:02</td>\n",
              "    </tr>\n",
              "    <tr>\n",
              "      <th>8</th>\n",
              "      <td>1319501865625784300</td>\n",
              "      <td>https://t.co/4qwCKQOiOw</td>\n",
              "      <td>f</td>\n",
              "      <td>f</td>\n",
              "      <td>Twitter for iPhone</td>\n",
              "      <td>130822</td>\n",
              "      <td>19127</td>\n",
              "      <td>2020-10-23 04:52:14</td>\n",
              "    </tr>\n",
              "  </tbody>\n",
              "</table>\n",
              "</div>"
            ],
            "text/plain": [
              "                    id  ...                date\n",
              "1  1234653427789070300  ... 2020-03-03 01:34:50\n",
              "3  1304875170860015600  ... 2020-09-12 20:10:58\n",
              "6  1315779944002199600  ... 2020-10-12 22:22:39\n",
              "7  1223640662689689600  ... 2020-02-01 16:14:02\n",
              "8  1319501865625784300  ... 2020-10-23 04:52:14\n",
              "\n",
              "[5 rows x 8 columns]"
            ]
          },
          "metadata": {
            "tags": []
          },
          "execution_count": 12
        }
      ]
    },
    {
      "cell_type": "code",
      "metadata": {
        "id": "p3-Rf_YEZBxb"
      },
      "source": [
        "tweets = df[\"text\"].tolist()"
      ],
      "execution_count": null,
      "outputs": []
    },
    {
      "cell_type": "code",
      "metadata": {
        "id": "5NlI9IlQZHDC"
      },
      "source": [
        "with open(\"train.txt\", \"w\") as f:\n",
        "    for tweet in tweets[:-10]:\n",
        "        f.writelines(tweet + \"\\n\")\n",
        "\n",
        "with open(\"test.txt\", \"w\") as f:\n",
        "    for tweet in tweets[-10:]:\n",
        "        f.writelines(tweet + \"\\n\")"
      ],
      "execution_count": null,
      "outputs": []
    },
    {
      "cell_type": "code",
      "metadata": {
        "id": "aKH9cr7SZMd0"
      },
      "source": [
        "from simpletransformers.language_modeling import LanguageModelingModel\n",
        "\n",
        "train_args = {\n",
        "    \"reprocess_input_data\": True,\n",
        "    \"overwrite_output_dir\": True,\n",
        "    \"train_batch_size\": 32,\n",
        "    \"num_train_epochs\": 5,\n",
        "    \"save_eval_checkpoints\": False,\n",
        "    \"mlm\": False,\n",
        "    #\"best_model_dir\": \"/content/drive/MyDrive/Colab/GPR2Trump/best\" <-- after mounting google drive\n",
        "}\n",
        "\n",
        "model = LanguageModelingModel('gpt2', 'gpt2', args=train_args)\n",
        "\n",
        "model.train_model(\"train.txt\", eval_file=\"test.txt\")"
      ],
      "execution_count": null,
      "outputs": []
    },
    {
      "cell_type": "code",
      "metadata": {
        "id": "oRadRxhiZaWf"
      },
      "source": [
        "model.eval_model(\"test.txt\")"
      ],
      "execution_count": null,
      "outputs": []
    },
    {
      "cell_type": "code",
      "metadata": {
        "id": "iHCIuVGBZxVt"
      },
      "source": [
        "# Saving the quantized model\n",
        "model.save_model(\"/content/GPR2Trump\", model=model.model)\n",
        "\n",
        "# Load the saved (quantized) model\n",
        "#model = ClassificationModel('roberta', \"outputs/quantized\", use_cuda=False) <-- load trained model with another model type"
      ],
      "execution_count": null,
      "outputs": []
    },
    {
      "cell_type": "code",
      "metadata": {
        "id": "TIeGKwnHaAHo"
      },
      "source": [
        "import logging\n",
        "from simpletransformers.language_generation import LanguageGenerationModel\n",
        "\n",
        "\n",
        "logging.basicConfig(level=logging.INFO)\n",
        "transformers_logger = logging.getLogger(\"transformers\")\n",
        "transformers_logger.setLevel(logging.WARNING)\n",
        "\n",
        "\n",
        "model = LanguageGenerationModel('gpt2', \"/content/GPR2Trump\", args={\"max_length\": 100})"
      ],
      "execution_count": null,
      "outputs": []
    },
    {
      "cell_type": "code",
      "metadata": {
        "colab": {
          "base_uri": "https://localhost:8080/"
        },
        "id": "QTM7Jvq-aWCe",
        "outputId": "069f3d4f-6b6a-4b28-c65e-5d6898c3900f"
      },
      "source": [
        "model.generate('kill')"
      ],
      "execution_count": null,
      "outputs": [
        {
          "output_type": "stream",
          "text": [
            "Setting `pad_token_id` to `eos_token_id`:50256 for open-end generation.\n",
            "INFO:simpletransformers.language_generation.language_generation_model:=== GENERATED SEQUENCE 1 ===\n",
            "INFO:simpletransformers.language_generation.language_generation_model:kill the State of Nebraska for no reason whatsoever - the people of Nebraska did NOTHING for our Country. They didn’t even pay their Federal, State, and Local taxes, and it was done with the help of Crazy Nancy Pelosi and the Radical Left Democrats. They are now totally out of control. Do something!.....The Democrats must now put their money where their mouths are, and fight for their workers, their great Veterans, their families, &amp; the very special people who have\n"
          ],
          "name": "stderr"
        },
        {
          "output_type": "execute_result",
          "data": {
            "text/plain": [
              "['kill the State of Nebraska for no reason whatsoever - the people of Nebraska did NOTHING for our Country. They didn’t even pay their Federal, State, and Local taxes, and it was done with the help of Crazy Nancy Pelosi and the Radical Left Democrats. They are now totally out of control. Do something!.....The Democrats must now put their money where their mouths are, and fight for their workers, their great Veterans, their families, &amp; the very special people who have']"
            ]
          },
          "metadata": {
            "tags": []
          },
          "execution_count": 37
        }
      ]
    },
    {
      "cell_type": "code",
      "metadata": {
        "id": "0IXGGLA-Pjjl"
      },
      "source": [
        ""
      ],
      "execution_count": null,
      "outputs": []
    }
  ]
}
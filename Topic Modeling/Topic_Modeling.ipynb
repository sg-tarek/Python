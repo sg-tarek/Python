{
  "nbformat": 4,
  "nbformat_minor": 0,
  "metadata": {
    "accelerator": "TPU",
    "colab": {
      "name": "Topic Modeling.ipynb",
      "provenance": [],
      "collapsed_sections": [
        "JdyfJzNbM-_G",
        "aL8HMeKaKn5c",
        "OIArFqP3Kn5l"
      ],
      "machine_shape": "hm"
    },
    "hide_input": false,
    "kernelspec": {
      "display_name": "Python 3",
      "language": "python",
      "name": "python3"
    },
    "language_info": {
      "codemirror_mode": {
        "name": "ipython",
        "version": 3
      },
      "file_extension": ".py",
      "mimetype": "text/x-python",
      "name": "python",
      "nbconvert_exporter": "python",
      "pygments_lexer": "ipython3",
      "version": "3.7.6"
    },
    "toc": {
      "base_numbering": 1,
      "nav_menu": {},
      "number_sections": false,
      "sideBar": false,
      "skip_h1_title": false,
      "title_cell": "Table of Contents",
      "title_sidebar": "Contents",
      "toc_cell": false,
      "toc_position": {
        "height": "312.431px",
        "left": "1175.72px",
        "top": "87.066px",
        "width": "219.844px"
      },
      "toc_section_display": true,
      "toc_window_display": true
    },
    "varInspector": {
      "cols": {
        "lenName": 16,
        "lenType": 16,
        "lenVar": 40
      },
      "kernels_config": {
        "python": {
          "delete_cmd_postfix": "",
          "delete_cmd_prefix": "del ",
          "library": "var_list.py",
          "varRefreshCmd": "print(var_dic_list())"
        },
        "r": {
          "delete_cmd_postfix": ") ",
          "delete_cmd_prefix": "rm(",
          "library": "var_list.r",
          "varRefreshCmd": "cat(var_dic_list()) "
        }
      },
      "position": {
        "height": "249.774px",
        "left": "1174.78px",
        "right": "20px",
        "top": "410.99px",
        "width": "202.292px"
      },
      "types_to_exclude": [
        "module",
        "function",
        "builtin_function_or_method",
        "instance",
        "_Feature"
      ],
      "window_display": true
    }
  },
  "cells": [
    {
      "cell_type": "code",
      "metadata": {
        "id": "jJgh4zf38TK4",
        "colab": {
          "base_uri": "https://localhost:8080/",
          "height": 34
        },
        "outputId": "c1e792d3-1f90-4b78-ed5f-43b9e2d3ff2b"
      },
      "source": [
        "import json\n",
        "import gzip\n",
        "import pandas as pd\n",
        "import numpy as np\n",
        "import matplotlib\n",
        "import seaborn as sns \n",
        "import matplotlib.pyplot as plt\n",
        "%matplotlib inline\n",
        "fig = plt.figure()"
      ],
      "execution_count": null,
      "outputs": [
        {
          "output_type": "display_data",
          "data": {
            "text/plain": [
              "<Figure size 432x288 with 0 Axes>"
            ]
          },
          "metadata": {
            "tags": []
          }
        }
      ]
    },
    {
      "cell_type": "markdown",
      "metadata": {
        "id": "CZyIH3jyIhEW"
      },
      "source": [
        "# Reviews data"
      ]
    },
    {
      "cell_type": "code",
      "metadata": {
        "id": "ax0ptlffGBXD",
        "colab": {
          "base_uri": "https://localhost:8080/"
        },
        "outputId": "372c1bc1-2571-4105-8604-33ef831debf8"
      },
      "source": [
        "#http://deepyeti.ucsd.edu/jianmo/amazon/index.html\n",
        "\n",
        "!wget http://deepyeti.ucsd.edu/jianmo/amazon/categoryFiles/Luxury_Beauty.json.gz"
      ],
      "execution_count": null,
      "outputs": [
        {
          "output_type": "stream",
          "text": [
            "--2020-12-02 21:00:45--  http://deepyeti.ucsd.edu/jianmo/amazon/categoryFiles/Luxury_Beauty.json.gz\n",
            "Resolving deepyeti.ucsd.edu (deepyeti.ucsd.edu)... 169.228.63.50\n",
            "Connecting to deepyeti.ucsd.edu (deepyeti.ucsd.edu)|169.228.63.50|:80... connected.\n",
            "HTTP request sent, awaiting response... 200 OK\n",
            "Length: 73193215 (70M) [application/octet-stream]\n",
            "Saving to: ‘Luxury_Beauty.json.gz.1’\n",
            "\n",
            "Luxury_Beauty.json. 100%[===================>]  69.80M  43.0MB/s    in 1.6s    \n",
            "\n",
            "2020-12-02 21:00:47 (43.0 MB/s) - ‘Luxury_Beauty.json.gz.1’ saved [73193215/73193215]\n",
            "\n"
          ],
          "name": "stdout"
        }
      ]
    },
    {
      "cell_type": "code",
      "metadata": {
        "id": "BfL0k7baCpKd",
        "colab": {
          "base_uri": "https://localhost:8080/"
        },
        "outputId": "ed6abf7c-ef4a-4346-cb86-b6239c6b32cd"
      },
      "source": [
        "### load the data\n",
        "\n",
        "data = []\n",
        "with gzip.open('Luxury_Beauty.json.gz') as f:\n",
        "    for l in f:\n",
        "        data.append(json.loads(l.strip()))\n",
        "    \n",
        "# total length of list, this number equals total number of products\n",
        "print(len(data))\n",
        "\n",
        "# first row of the list\n",
        "print(data[0])"
      ],
      "execution_count": null,
      "outputs": [
        {
          "output_type": "stream",
          "text": [
            "574628\n",
            "{'overall': 2.0, 'vote': '3', 'verified': True, 'reviewTime': '06 15, 2010', 'reviewerID': 'A1Q6MUU0B2ZDQG', 'asin': 'B00004U9V2', 'reviewerName': 'D. Poston', 'reviewText': \"I bought two of these 8.5 fl oz hand cream, and neither of the dispensers work.  The hand cream is wonderful, but very thick, so I don't see I can get much out by shaking it out, since the dispensers seem to be non-operable.\", 'summary': \"dispensers don't work\", 'unixReviewTime': 1276560000}\n"
          ],
          "name": "stdout"
        }
      ]
    },
    {
      "cell_type": "code",
      "metadata": {
        "id": "oqIH68VrGPXC",
        "colab": {
          "base_uri": "https://localhost:8080/"
        },
        "outputId": "c1b05428-ab04-4c72-8bf9-356e5d929a03"
      },
      "source": [
        "# convert list into pandas dataframe\n",
        "\n",
        "reviews = pd.DataFrame.from_dict(data)\n",
        "\n",
        "print(len(reviews))"
      ],
      "execution_count": null,
      "outputs": [
        {
          "output_type": "stream",
          "text": [
            "574628\n"
          ],
          "name": "stdout"
        }
      ]
    },
    {
      "cell_type": "markdown",
      "metadata": {
        "id": "lQXAOP1NL6ev"
      },
      "source": [
        "**Overview of the columns:**\n",
        "*   reviewerID - ID of the reviewer, e.g. A2SUAM1J3GNN3B \n",
        "*   asin - ID of the product, e.g. 0000013714 \n",
        "*   reviewerName - name of the reviewer \n",
        "*   vote - helpful votes of the review \n",
        "*   style - a disctionary of the product metadata, e.g., \"Format\" is \"Hardcover\" \n",
        "*   reviewText - text of the review \n",
        "*   overall - rating of the product \n",
        "*   summary - summary of the review \n",
        "*   unixReviewTime - time of the review (unix time) \n",
        "*   reviewTime - time of the review (raw) \n",
        "*   image - images that users post after they have received the product "
      ]
    },
    {
      "cell_type": "code",
      "metadata": {
        "id": "fpG33eSjGPYx",
        "colab": {
          "base_uri": "https://localhost:8080/",
          "height": 442
        },
        "outputId": "570f177e-a4b6-4f0b-bf85-97c256a7f658"
      },
      "source": [
        "reviews.head()"
      ],
      "execution_count": null,
      "outputs": [
        {
          "output_type": "execute_result",
          "data": {
            "text/html": [
              "<div>\n",
              "<style scoped>\n",
              "    .dataframe tbody tr th:only-of-type {\n",
              "        vertical-align: middle;\n",
              "    }\n",
              "\n",
              "    .dataframe tbody tr th {\n",
              "        vertical-align: top;\n",
              "    }\n",
              "\n",
              "    .dataframe thead th {\n",
              "        text-align: right;\n",
              "    }\n",
              "</style>\n",
              "<table border=\"1\" class=\"dataframe\">\n",
              "  <thead>\n",
              "    <tr style=\"text-align: right;\">\n",
              "      <th></th>\n",
              "      <th>overall</th>\n",
              "      <th>vote</th>\n",
              "      <th>verified</th>\n",
              "      <th>reviewTime</th>\n",
              "      <th>reviewerID</th>\n",
              "      <th>asin</th>\n",
              "      <th>reviewerName</th>\n",
              "      <th>reviewText</th>\n",
              "      <th>summary</th>\n",
              "      <th>unixReviewTime</th>\n",
              "      <th>style</th>\n",
              "      <th>image</th>\n",
              "    </tr>\n",
              "  </thead>\n",
              "  <tbody>\n",
              "    <tr>\n",
              "      <th>0</th>\n",
              "      <td>2.0</td>\n",
              "      <td>3</td>\n",
              "      <td>True</td>\n",
              "      <td>06 15, 2010</td>\n",
              "      <td>A1Q6MUU0B2ZDQG</td>\n",
              "      <td>B00004U9V2</td>\n",
              "      <td>D. Poston</td>\n",
              "      <td>I bought two of these 8.5 fl oz hand cream, an...</td>\n",
              "      <td>dispensers don't work</td>\n",
              "      <td>1276560000</td>\n",
              "      <td>NaN</td>\n",
              "      <td>NaN</td>\n",
              "    </tr>\n",
              "    <tr>\n",
              "      <th>1</th>\n",
              "      <td>5.0</td>\n",
              "      <td>14</td>\n",
              "      <td>True</td>\n",
              "      <td>01 7, 2010</td>\n",
              "      <td>A3HO2SQDCZIE9S</td>\n",
              "      <td>B00004U9V2</td>\n",
              "      <td>chandra</td>\n",
              "      <td>Believe me, over the years I have tried many, ...</td>\n",
              "      <td>Best hand cream ever.</td>\n",
              "      <td>1262822400</td>\n",
              "      <td>NaN</td>\n",
              "      <td>NaN</td>\n",
              "    </tr>\n",
              "    <tr>\n",
              "      <th>2</th>\n",
              "      <td>5.0</td>\n",
              "      <td>NaN</td>\n",
              "      <td>True</td>\n",
              "      <td>04 18, 2018</td>\n",
              "      <td>A2EM03F99X3RJZ</td>\n",
              "      <td>B00004U9V2</td>\n",
              "      <td>Maureen G</td>\n",
              "      <td>Great hand lotion</td>\n",
              "      <td>Five Stars</td>\n",
              "      <td>1524009600</td>\n",
              "      <td>{'Size:': ' 3.5 oz.'}</td>\n",
              "      <td>NaN</td>\n",
              "    </tr>\n",
              "    <tr>\n",
              "      <th>3</th>\n",
              "      <td>5.0</td>\n",
              "      <td>NaN</td>\n",
              "      <td>True</td>\n",
              "      <td>04 18, 2018</td>\n",
              "      <td>A3Z74TDRGD0HU</td>\n",
              "      <td>B00004U9V2</td>\n",
              "      <td>Terry K</td>\n",
              "      <td>This is the best for the severely dry skin on ...</td>\n",
              "      <td>Five Stars</td>\n",
              "      <td>1524009600</td>\n",
              "      <td>{'Size:': ' 3.5 oz.'}</td>\n",
              "      <td>NaN</td>\n",
              "    </tr>\n",
              "    <tr>\n",
              "      <th>4</th>\n",
              "      <td>5.0</td>\n",
              "      <td>NaN</td>\n",
              "      <td>True</td>\n",
              "      <td>04 17, 2018</td>\n",
              "      <td>A2UXFNW9RTL4VM</td>\n",
              "      <td>B00004U9V2</td>\n",
              "      <td>Patricia Wood</td>\n",
              "      <td>The best non- oily hand cream ever. It heals o...</td>\n",
              "      <td>I always have a backup ready.</td>\n",
              "      <td>1523923200</td>\n",
              "      <td>{'Size:': ' 3.5 oz.'}</td>\n",
              "      <td>NaN</td>\n",
              "    </tr>\n",
              "  </tbody>\n",
              "</table>\n",
              "</div>"
            ],
            "text/plain": [
              "   overall vote  verified  ... unixReviewTime                  style image\n",
              "0      2.0    3      True  ...     1276560000                    NaN   NaN\n",
              "1      5.0   14      True  ...     1262822400                    NaN   NaN\n",
              "2      5.0  NaN      True  ...     1524009600  {'Size:': ' 3.5 oz.'}   NaN\n",
              "3      5.0  NaN      True  ...     1524009600  {'Size:': ' 3.5 oz.'}   NaN\n",
              "4      5.0  NaN      True  ...     1523923200  {'Size:': ' 3.5 oz.'}   NaN\n",
              "\n",
              "[5 rows x 12 columns]"
            ]
          },
          "metadata": {
            "tags": []
          },
          "execution_count": 10
        }
      ]
    },
    {
      "cell_type": "markdown",
      "metadata": {
        "id": "2j-BeHXCGfiE"
      },
      "source": [
        "Diving into the columns we see a lot of missing values. It might be worth considering to remove the '**vote**', '**style**' and '**image**' column:"
      ]
    },
    {
      "cell_type": "code",
      "metadata": {
        "id": "Kt7yetG2CmVJ",
        "colab": {
          "base_uri": "https://localhost:8080/"
        },
        "outputId": "96539a6f-166c-4fea-cace-9df08a446517"
      },
      "source": [
        "reviews.isnull().sum()"
      ],
      "execution_count": null,
      "outputs": [
        {
          "output_type": "execute_result",
          "data": {
            "text/plain": [
              "overall                0\n",
              "vote              470939\n",
              "verified               0\n",
              "reviewTime             0\n",
              "reviewerID             0\n",
              "asin                   0\n",
              "reviewerName          31\n",
              "reviewText           400\n",
              "summary              183\n",
              "unixReviewTime         0\n",
              "style             323615\n",
              "image             567210\n",
              "dtype: int64"
            ]
          },
          "metadata": {
            "tags": []
          },
          "execution_count": 11
        }
      ]
    },
    {
      "cell_type": "markdown",
      "metadata": {
        "id": "x5gpaslyIkst"
      },
      "source": [
        "##Meta data"
      ]
    },
    {
      "cell_type": "code",
      "metadata": {
        "id": "iqHwi-QPGwSF",
        "colab": {
          "base_uri": "https://localhost:8080/"
        },
        "outputId": "d45401d9-6fee-4a75-f579-82f40c761975"
      },
      "source": [
        "!wget http://deepyeti.ucsd.edu/jianmo/amazon/metaFiles/meta_Luxury_Beauty.json.gz"
      ],
      "execution_count": null,
      "outputs": [
        {
          "output_type": "stream",
          "text": [
            "--2020-12-02 21:00:58--  http://deepyeti.ucsd.edu/jianmo/amazon/metaFiles/meta_Luxury_Beauty.json.gz\n",
            "Resolving deepyeti.ucsd.edu (deepyeti.ucsd.edu)... 169.228.63.50\n",
            "Connecting to deepyeti.ucsd.edu (deepyeti.ucsd.edu)|169.228.63.50|:80... connected.\n",
            "HTTP request sent, awaiting response... 200 OK\n",
            "Length: 7390423 (7.0M) [application/octet-stream]\n",
            "Saving to: ‘meta_Luxury_Beauty.json.gz’\n",
            "\n",
            "meta_Luxury_Beauty. 100%[===================>]   7.05M  14.3MB/s    in 0.5s    \n",
            "\n",
            "2020-12-02 21:00:58 (14.3 MB/s) - ‘meta_Luxury_Beauty.json.gz’ saved [7390423/7390423]\n",
            "\n"
          ],
          "name": "stdout"
        }
      ]
    },
    {
      "cell_type": "code",
      "metadata": {
        "id": "5jZgCByKIpxb"
      },
      "source": [
        "meta = []\n",
        "with gzip.open('meta_Luxury_Beauty.json.gz') as f:\n",
        "    for l in f:\n",
        "        meta.append(json.loads(l.strip()))"
      ],
      "execution_count": null,
      "outputs": []
    },
    {
      "cell_type": "code",
      "metadata": {
        "id": "7MfEcKKMIvtq"
      },
      "source": [
        "metadata = pd.DataFrame.from_dict(meta)"
      ],
      "execution_count": null,
      "outputs": []
    },
    {
      "cell_type": "code",
      "metadata": {
        "id": "2BUh6MqcI0Cp",
        "colab": {
          "base_uri": "https://localhost:8080/",
          "height": 632
        },
        "outputId": "d1bbba66-4167-4f7c-ed98-3eee6a6c6385"
      },
      "source": [
        "metadata.head()"
      ],
      "execution_count": null,
      "outputs": [
        {
          "output_type": "execute_result",
          "data": {
            "text/html": [
              "<div>\n",
              "<style scoped>\n",
              "    .dataframe tbody tr th:only-of-type {\n",
              "        vertical-align: middle;\n",
              "    }\n",
              "\n",
              "    .dataframe tbody tr th {\n",
              "        vertical-align: top;\n",
              "    }\n",
              "\n",
              "    .dataframe thead th {\n",
              "        text-align: right;\n",
              "    }\n",
              "</style>\n",
              "<table border=\"1\" class=\"dataframe\">\n",
              "  <thead>\n",
              "    <tr style=\"text-align: right;\">\n",
              "      <th></th>\n",
              "      <th>category</th>\n",
              "      <th>tech1</th>\n",
              "      <th>description</th>\n",
              "      <th>fit</th>\n",
              "      <th>title</th>\n",
              "      <th>also_buy</th>\n",
              "      <th>image</th>\n",
              "      <th>tech2</th>\n",
              "      <th>brand</th>\n",
              "      <th>feature</th>\n",
              "      <th>rank</th>\n",
              "      <th>also_view</th>\n",
              "      <th>details</th>\n",
              "      <th>main_cat</th>\n",
              "      <th>similar_item</th>\n",
              "      <th>date</th>\n",
              "      <th>price</th>\n",
              "      <th>asin</th>\n",
              "    </tr>\n",
              "  </thead>\n",
              "  <tbody>\n",
              "    <tr>\n",
              "      <th>0</th>\n",
              "      <td>[]</td>\n",
              "      <td></td>\n",
              "      <td>[After a long day of handling thorny situation...</td>\n",
              "      <td></td>\n",
              "      <td>Crabtree &amp;amp; Evelyn - Gardener's Ultra-Moist...</td>\n",
              "      <td>[B00GHX7H0A, B00FRERO7G, B00R68QXCS, B000Z65AZ...</td>\n",
              "      <td>[https://images-na.ssl-images-amazon.com/image...</td>\n",
              "      <td></td>\n",
              "      <td></td>\n",
              "      <td>[]</td>\n",
              "      <td>4,324 in Beauty &amp; Personal Care (</td>\n",
              "      <td>[B00FRERO7G, B00GHX7H0A, B07GFHJRMX, B00TJ3NBN...</td>\n",
              "      <td>{'\n",
              "    Product Dimensions: \n",
              "    ': '2.2 x 2.2 ...</td>\n",
              "      <td>Luxury Beauty</td>\n",
              "      <td></td>\n",
              "      <td></td>\n",
              "      <td>$30.00</td>\n",
              "      <td>B00004U9V2</td>\n",
              "    </tr>\n",
              "    <tr>\n",
              "      <th>1</th>\n",
              "      <td>[]</td>\n",
              "      <td></td>\n",
              "      <td>[If you haven't experienced the pleasures of b...</td>\n",
              "      <td></td>\n",
              "      <td>AHAVA Bath Salts</td>\n",
              "      <td>[]</td>\n",
              "      <td>[]</td>\n",
              "      <td></td>\n",
              "      <td></td>\n",
              "      <td>[]</td>\n",
              "      <td>1,633,549 in Beauty &amp; Personal Care (</td>\n",
              "      <td>[]</td>\n",
              "      <td>{'\n",
              "    Product Dimensions: \n",
              "    ': '3 x 3.5 x ...</td>\n",
              "      <td>Luxury Beauty</td>\n",
              "      <td></td>\n",
              "      <td></td>\n",
              "      <td></td>\n",
              "      <td>B0000531EN</td>\n",
              "    </tr>\n",
              "    <tr>\n",
              "      <th>2</th>\n",
              "      <td>[]</td>\n",
              "      <td></td>\n",
              "      <td>[Rich, black mineral mud, harvested from the b...</td>\n",
              "      <td></td>\n",
              "      <td>AHAVA Dead Sea Mineral Mud, 8.5 oz, Pack of 4</td>\n",
              "      <td>[]</td>\n",
              "      <td>[https://images-na.ssl-images-amazon.com/image...</td>\n",
              "      <td></td>\n",
              "      <td></td>\n",
              "      <td>[]</td>\n",
              "      <td>1,806,710 in Beauty &amp;amp; Personal Care (</td>\n",
              "      <td>[]</td>\n",
              "      <td>{'\n",
              "    Product Dimensions: \n",
              "    ': '5.1 x 3 x ...</td>\n",
              "      <td>Luxury Beauty</td>\n",
              "      <td></td>\n",
              "      <td></td>\n",
              "      <td></td>\n",
              "      <td>B0000532JH</td>\n",
              "    </tr>\n",
              "    <tr>\n",
              "      <th>3</th>\n",
              "      <td>[]</td>\n",
              "      <td></td>\n",
              "      <td>[This liquid soap with convenient pump dispens...</td>\n",
              "      <td></td>\n",
              "      <td>Crabtree &amp;amp; Evelyn Hand Soap, Gardeners, 10...</td>\n",
              "      <td>[]</td>\n",
              "      <td>[https://images-na.ssl-images-amazon.com/image...</td>\n",
              "      <td></td>\n",
              "      <td></td>\n",
              "      <td>[]</td>\n",
              "      <td>[]</td>\n",
              "      <td>[B00004U9V2, B00GHX7H0A, B00FRERO7G, B00R68QXC...</td>\n",
              "      <td>{'\n",
              "    Product Dimensions: \n",
              "    ': '2.6 x 2.6 ...</td>\n",
              "      <td>Luxury Beauty</td>\n",
              "      <td></td>\n",
              "      <td></td>\n",
              "      <td>$15.99</td>\n",
              "      <td>B00005A77F</td>\n",
              "    </tr>\n",
              "    <tr>\n",
              "      <th>4</th>\n",
              "      <td>[]</td>\n",
              "      <td></td>\n",
              "      <td>[Remember why you love your favorite blanket? ...</td>\n",
              "      <td></td>\n",
              "      <td>Soy Milk Hand Crme</td>\n",
              "      <td>[B000NZT6KM, B001BY229Q, B008J724QY, B0009YGKJ...</td>\n",
              "      <td>[https://images-na.ssl-images-amazon.com/image...</td>\n",
              "      <td></td>\n",
              "      <td></td>\n",
              "      <td>[]</td>\n",
              "      <td>42,464 in Beauty &amp;amp; Personal Care (</td>\n",
              "      <td>[]</td>\n",
              "      <td>{'\n",
              "    Product Dimensions: \n",
              "    ': '7.2 x 2.2 ...</td>\n",
              "      <td>Luxury Beauty</td>\n",
              "      <td></td>\n",
              "      <td></td>\n",
              "      <td>$18.00</td>\n",
              "      <td>B00005NDTD</td>\n",
              "    </tr>\n",
              "  </tbody>\n",
              "</table>\n",
              "</div>"
            ],
            "text/plain": [
              "  category tech1  ...   price        asin\n",
              "0       []        ...  $30.00  B00004U9V2\n",
              "1       []        ...          B0000531EN\n",
              "2       []        ...          B0000532JH\n",
              "3       []        ...  $15.99  B00005A77F\n",
              "4       []        ...  $18.00  B00005NDTD\n",
              "\n",
              "[5 rows x 18 columns]"
            ]
          },
          "metadata": {
            "tags": []
          },
          "execution_count": 15
        }
      ]
    },
    {
      "cell_type": "markdown",
      "metadata": {
        "id": "OG_Ppti2VBHp"
      },
      "source": [
        "We make sure that duplicates are removed from the asin column, so we do not get unnecessary extra columns when mergin the dataframes:"
      ]
    },
    {
      "cell_type": "code",
      "metadata": {
        "id": "0YRHT7e0UNg4"
      },
      "source": [
        "metadata = metadata.drop_duplicates(subset=['asin'])"
      ],
      "execution_count": null,
      "outputs": []
    },
    {
      "cell_type": "markdown",
      "metadata": {
        "id": "JdyfJzNbM-_G"
      },
      "source": [
        "# Merge Reviews with Metadata"
      ]
    },
    {
      "cell_type": "code",
      "metadata": {
        "id": "qj2uhvh8I1MB"
      },
      "source": [
        "lux = pd.merge (reviews, metadata, how=\"left\", on=\"asin\")"
      ],
      "execution_count": null,
      "outputs": []
    },
    {
      "cell_type": "code",
      "metadata": {
        "id": "J6okCNdxSvAt",
        "colab": {
          "base_uri": "https://localhost:8080/",
          "height": 649
        },
        "outputId": "631ca94b-0203-4e07-e378-b1f935f2cd75"
      },
      "source": [
        "lux.head()"
      ],
      "execution_count": null,
      "outputs": [
        {
          "output_type": "execute_result",
          "data": {
            "text/html": [
              "<div>\n",
              "<style scoped>\n",
              "    .dataframe tbody tr th:only-of-type {\n",
              "        vertical-align: middle;\n",
              "    }\n",
              "\n",
              "    .dataframe tbody tr th {\n",
              "        vertical-align: top;\n",
              "    }\n",
              "\n",
              "    .dataframe thead th {\n",
              "        text-align: right;\n",
              "    }\n",
              "</style>\n",
              "<table border=\"1\" class=\"dataframe\">\n",
              "  <thead>\n",
              "    <tr style=\"text-align: right;\">\n",
              "      <th></th>\n",
              "      <th>overall</th>\n",
              "      <th>vote</th>\n",
              "      <th>verified</th>\n",
              "      <th>reviewTime</th>\n",
              "      <th>reviewerID</th>\n",
              "      <th>asin</th>\n",
              "      <th>reviewerName</th>\n",
              "      <th>reviewText</th>\n",
              "      <th>summary</th>\n",
              "      <th>unixReviewTime</th>\n",
              "      <th>style</th>\n",
              "      <th>image_x</th>\n",
              "      <th>category</th>\n",
              "      <th>tech1</th>\n",
              "      <th>description</th>\n",
              "      <th>fit</th>\n",
              "      <th>title</th>\n",
              "      <th>also_buy</th>\n",
              "      <th>image_y</th>\n",
              "      <th>tech2</th>\n",
              "      <th>brand</th>\n",
              "      <th>feature</th>\n",
              "      <th>rank</th>\n",
              "      <th>also_view</th>\n",
              "      <th>details</th>\n",
              "      <th>main_cat</th>\n",
              "      <th>similar_item</th>\n",
              "      <th>date</th>\n",
              "      <th>price</th>\n",
              "    </tr>\n",
              "  </thead>\n",
              "  <tbody>\n",
              "    <tr>\n",
              "      <th>0</th>\n",
              "      <td>2.0</td>\n",
              "      <td>3</td>\n",
              "      <td>True</td>\n",
              "      <td>06 15, 2010</td>\n",
              "      <td>A1Q6MUU0B2ZDQG</td>\n",
              "      <td>B00004U9V2</td>\n",
              "      <td>D. Poston</td>\n",
              "      <td>I bought two of these 8.5 fl oz hand cream, an...</td>\n",
              "      <td>dispensers don't work</td>\n",
              "      <td>1276560000</td>\n",
              "      <td>NaN</td>\n",
              "      <td>NaN</td>\n",
              "      <td>[]</td>\n",
              "      <td></td>\n",
              "      <td>[After a long day of handling thorny situation...</td>\n",
              "      <td></td>\n",
              "      <td>Crabtree &amp;amp; Evelyn - Gardener's Ultra-Moist...</td>\n",
              "      <td>[B00GHX7H0A, B00FRERO7G, B00R68QXCS, B000Z65AZ...</td>\n",
              "      <td>[https://images-na.ssl-images-amazon.com/image...</td>\n",
              "      <td></td>\n",
              "      <td></td>\n",
              "      <td>[]</td>\n",
              "      <td>4,324 in Beauty &amp; Personal Care (</td>\n",
              "      <td>[B00FRERO7G, B00GHX7H0A, B07GFHJRMX, B00TJ3NBN...</td>\n",
              "      <td>{'\n",
              "    Product Dimensions: \n",
              "    ': '2.2 x 2.2 ...</td>\n",
              "      <td>Luxury Beauty</td>\n",
              "      <td></td>\n",
              "      <td></td>\n",
              "      <td>$30.00</td>\n",
              "    </tr>\n",
              "    <tr>\n",
              "      <th>1</th>\n",
              "      <td>5.0</td>\n",
              "      <td>14</td>\n",
              "      <td>True</td>\n",
              "      <td>01 7, 2010</td>\n",
              "      <td>A3HO2SQDCZIE9S</td>\n",
              "      <td>B00004U9V2</td>\n",
              "      <td>chandra</td>\n",
              "      <td>Believe me, over the years I have tried many, ...</td>\n",
              "      <td>Best hand cream ever.</td>\n",
              "      <td>1262822400</td>\n",
              "      <td>NaN</td>\n",
              "      <td>NaN</td>\n",
              "      <td>[]</td>\n",
              "      <td></td>\n",
              "      <td>[After a long day of handling thorny situation...</td>\n",
              "      <td></td>\n",
              "      <td>Crabtree &amp;amp; Evelyn - Gardener's Ultra-Moist...</td>\n",
              "      <td>[B00GHX7H0A, B00FRERO7G, B00R68QXCS, B000Z65AZ...</td>\n",
              "      <td>[https://images-na.ssl-images-amazon.com/image...</td>\n",
              "      <td></td>\n",
              "      <td></td>\n",
              "      <td>[]</td>\n",
              "      <td>4,324 in Beauty &amp; Personal Care (</td>\n",
              "      <td>[B00FRERO7G, B00GHX7H0A, B07GFHJRMX, B00TJ3NBN...</td>\n",
              "      <td>{'\n",
              "    Product Dimensions: \n",
              "    ': '2.2 x 2.2 ...</td>\n",
              "      <td>Luxury Beauty</td>\n",
              "      <td></td>\n",
              "      <td></td>\n",
              "      <td>$30.00</td>\n",
              "    </tr>\n",
              "    <tr>\n",
              "      <th>2</th>\n",
              "      <td>5.0</td>\n",
              "      <td>NaN</td>\n",
              "      <td>True</td>\n",
              "      <td>04 18, 2018</td>\n",
              "      <td>A2EM03F99X3RJZ</td>\n",
              "      <td>B00004U9V2</td>\n",
              "      <td>Maureen G</td>\n",
              "      <td>Great hand lotion</td>\n",
              "      <td>Five Stars</td>\n",
              "      <td>1524009600</td>\n",
              "      <td>{'Size:': ' 3.5 oz.'}</td>\n",
              "      <td>NaN</td>\n",
              "      <td>[]</td>\n",
              "      <td></td>\n",
              "      <td>[After a long day of handling thorny situation...</td>\n",
              "      <td></td>\n",
              "      <td>Crabtree &amp;amp; Evelyn - Gardener's Ultra-Moist...</td>\n",
              "      <td>[B00GHX7H0A, B00FRERO7G, B00R68QXCS, B000Z65AZ...</td>\n",
              "      <td>[https://images-na.ssl-images-amazon.com/image...</td>\n",
              "      <td></td>\n",
              "      <td></td>\n",
              "      <td>[]</td>\n",
              "      <td>4,324 in Beauty &amp; Personal Care (</td>\n",
              "      <td>[B00FRERO7G, B00GHX7H0A, B07GFHJRMX, B00TJ3NBN...</td>\n",
              "      <td>{'\n",
              "    Product Dimensions: \n",
              "    ': '2.2 x 2.2 ...</td>\n",
              "      <td>Luxury Beauty</td>\n",
              "      <td></td>\n",
              "      <td></td>\n",
              "      <td>$30.00</td>\n",
              "    </tr>\n",
              "    <tr>\n",
              "      <th>3</th>\n",
              "      <td>5.0</td>\n",
              "      <td>NaN</td>\n",
              "      <td>True</td>\n",
              "      <td>04 18, 2018</td>\n",
              "      <td>A3Z74TDRGD0HU</td>\n",
              "      <td>B00004U9V2</td>\n",
              "      <td>Terry K</td>\n",
              "      <td>This is the best for the severely dry skin on ...</td>\n",
              "      <td>Five Stars</td>\n",
              "      <td>1524009600</td>\n",
              "      <td>{'Size:': ' 3.5 oz.'}</td>\n",
              "      <td>NaN</td>\n",
              "      <td>[]</td>\n",
              "      <td></td>\n",
              "      <td>[After a long day of handling thorny situation...</td>\n",
              "      <td></td>\n",
              "      <td>Crabtree &amp;amp; Evelyn - Gardener's Ultra-Moist...</td>\n",
              "      <td>[B00GHX7H0A, B00FRERO7G, B00R68QXCS, B000Z65AZ...</td>\n",
              "      <td>[https://images-na.ssl-images-amazon.com/image...</td>\n",
              "      <td></td>\n",
              "      <td></td>\n",
              "      <td>[]</td>\n",
              "      <td>4,324 in Beauty &amp; Personal Care (</td>\n",
              "      <td>[B00FRERO7G, B00GHX7H0A, B07GFHJRMX, B00TJ3NBN...</td>\n",
              "      <td>{'\n",
              "    Product Dimensions: \n",
              "    ': '2.2 x 2.2 ...</td>\n",
              "      <td>Luxury Beauty</td>\n",
              "      <td></td>\n",
              "      <td></td>\n",
              "      <td>$30.00</td>\n",
              "    </tr>\n",
              "    <tr>\n",
              "      <th>4</th>\n",
              "      <td>5.0</td>\n",
              "      <td>NaN</td>\n",
              "      <td>True</td>\n",
              "      <td>04 17, 2018</td>\n",
              "      <td>A2UXFNW9RTL4VM</td>\n",
              "      <td>B00004U9V2</td>\n",
              "      <td>Patricia Wood</td>\n",
              "      <td>The best non- oily hand cream ever. It heals o...</td>\n",
              "      <td>I always have a backup ready.</td>\n",
              "      <td>1523923200</td>\n",
              "      <td>{'Size:': ' 3.5 oz.'}</td>\n",
              "      <td>NaN</td>\n",
              "      <td>[]</td>\n",
              "      <td></td>\n",
              "      <td>[After a long day of handling thorny situation...</td>\n",
              "      <td></td>\n",
              "      <td>Crabtree &amp;amp; Evelyn - Gardener's Ultra-Moist...</td>\n",
              "      <td>[B00GHX7H0A, B00FRERO7G, B00R68QXCS, B000Z65AZ...</td>\n",
              "      <td>[https://images-na.ssl-images-amazon.com/image...</td>\n",
              "      <td></td>\n",
              "      <td></td>\n",
              "      <td>[]</td>\n",
              "      <td>4,324 in Beauty &amp; Personal Care (</td>\n",
              "      <td>[B00FRERO7G, B00GHX7H0A, B07GFHJRMX, B00TJ3NBN...</td>\n",
              "      <td>{'\n",
              "    Product Dimensions: \n",
              "    ': '2.2 x 2.2 ...</td>\n",
              "      <td>Luxury Beauty</td>\n",
              "      <td></td>\n",
              "      <td></td>\n",
              "      <td>$30.00</td>\n",
              "    </tr>\n",
              "  </tbody>\n",
              "</table>\n",
              "</div>"
            ],
            "text/plain": [
              "   overall vote  verified   reviewTime  ...       main_cat similar_item date   price\n",
              "0      2.0    3      True  06 15, 2010  ...  Luxury Beauty                    $30.00\n",
              "1      5.0   14      True   01 7, 2010  ...  Luxury Beauty                    $30.00\n",
              "2      5.0  NaN      True  04 18, 2018  ...  Luxury Beauty                    $30.00\n",
              "3      5.0  NaN      True  04 18, 2018  ...  Luxury Beauty                    $30.00\n",
              "4      5.0  NaN      True  04 17, 2018  ...  Luxury Beauty                    $30.00\n",
              "\n",
              "[5 rows x 29 columns]"
            ]
          },
          "metadata": {
            "tags": []
          },
          "execution_count": 18
        }
      ]
    },
    {
      "cell_type": "code",
      "metadata": {
        "id": "kSFk2DJaUhiO",
        "colab": {
          "base_uri": "https://localhost:8080/"
        },
        "outputId": "3321be76-423b-4d36-b810-2717cafc6485"
      },
      "source": [
        "lux.info()"
      ],
      "execution_count": null,
      "outputs": [
        {
          "output_type": "stream",
          "text": [
            "<class 'pandas.core.frame.DataFrame'>\n",
            "Int64Index: 574628 entries, 0 to 574627\n",
            "Data columns (total 29 columns):\n",
            " #   Column          Non-Null Count   Dtype  \n",
            "---  ------          --------------   -----  \n",
            " 0   overall         574628 non-null  float64\n",
            " 1   vote            103689 non-null  object \n",
            " 2   verified        574628 non-null  bool   \n",
            " 3   reviewTime      574628 non-null  object \n",
            " 4   reviewerID      574628 non-null  object \n",
            " 5   asin            574628 non-null  object \n",
            " 6   reviewerName    574597 non-null  object \n",
            " 7   reviewText      574228 non-null  object \n",
            " 8   summary         574445 non-null  object \n",
            " 9   unixReviewTime  574628 non-null  int64  \n",
            " 10  style           251013 non-null  object \n",
            " 11  image_x         7418 non-null    object \n",
            " 12  category        574338 non-null  object \n",
            " 13  tech1           574338 non-null  object \n",
            " 14  description     574338 non-null  object \n",
            " 15  fit             574338 non-null  object \n",
            " 16  title           574338 non-null  object \n",
            " 17  also_buy        574338 non-null  object \n",
            " 18  image_y         574338 non-null  object \n",
            " 19  tech2           574338 non-null  object \n",
            " 20  brand           574338 non-null  object \n",
            " 21  feature         574338 non-null  object \n",
            " 22  rank            574338 non-null  object \n",
            " 23  also_view       574338 non-null  object \n",
            " 24  details         574338 non-null  object \n",
            " 25  main_cat        574338 non-null  object \n",
            " 26  similar_item    574338 non-null  object \n",
            " 27  date            574338 non-null  object \n",
            " 28  price           574338 non-null  object \n",
            "dtypes: bool(1), float64(1), int64(1), object(26)\n",
            "memory usage: 127.7+ MB\n"
          ],
          "name": "stdout"
        }
      ]
    },
    {
      "cell_type": "code",
      "metadata": {
        "id": "NiCBas0TSwzH",
        "colab": {
          "base_uri": "https://localhost:8080/"
        },
        "outputId": "a7c18401-3beb-4f81-f78e-9f1310b6705d"
      },
      "source": [
        "lux.isnull().sum()"
      ],
      "execution_count": null,
      "outputs": [
        {
          "output_type": "execute_result",
          "data": {
            "text/plain": [
              "overall                0\n",
              "vote              470939\n",
              "verified               0\n",
              "reviewTime             0\n",
              "reviewerID             0\n",
              "asin                   0\n",
              "reviewerName          31\n",
              "reviewText           400\n",
              "summary              183\n",
              "unixReviewTime         0\n",
              "style             323615\n",
              "image_x           567210\n",
              "category             290\n",
              "tech1                290\n",
              "description          290\n",
              "fit                  290\n",
              "title                290\n",
              "also_buy             290\n",
              "image_y              290\n",
              "tech2                290\n",
              "brand                290\n",
              "feature              290\n",
              "rank                 290\n",
              "also_view            290\n",
              "details              290\n",
              "main_cat             290\n",
              "similar_item         290\n",
              "date                 290\n",
              "price                290\n",
              "dtype: int64"
            ]
          },
          "metadata": {
            "tags": []
          },
          "execution_count": 20
        }
      ]
    },
    {
      "cell_type": "markdown",
      "metadata": {
        "id": "kuxT0tWjXyih"
      },
      "source": [
        "# Preprocessing and word count"
      ]
    },
    {
      "cell_type": "code",
      "metadata": {
        "id": "lgdAsuPVi7_i",
        "colab": {
          "base_uri": "https://localhost:8080/"
        },
        "outputId": "93591221-668f-425f-cf6c-41fc6b42b73b"
      },
      "source": [
        "lux.info()"
      ],
      "execution_count": null,
      "outputs": [
        {
          "output_type": "stream",
          "text": [
            "<class 'pandas.core.frame.DataFrame'>\n",
            "Int64Index: 574628 entries, 0 to 574627\n",
            "Data columns (total 29 columns):\n",
            " #   Column          Non-Null Count   Dtype  \n",
            "---  ------          --------------   -----  \n",
            " 0   overall         574628 non-null  float64\n",
            " 1   vote            103689 non-null  object \n",
            " 2   verified        574628 non-null  bool   \n",
            " 3   reviewTime      574628 non-null  object \n",
            " 4   reviewerID      574628 non-null  object \n",
            " 5   asin            574628 non-null  object \n",
            " 6   reviewerName    574597 non-null  object \n",
            " 7   reviewText      574228 non-null  object \n",
            " 8   summary         574445 non-null  object \n",
            " 9   unixReviewTime  574628 non-null  int64  \n",
            " 10  style           251013 non-null  object \n",
            " 11  image_x         7418 non-null    object \n",
            " 12  category        574338 non-null  object \n",
            " 13  tech1           574338 non-null  object \n",
            " 14  description     574338 non-null  object \n",
            " 15  fit             574338 non-null  object \n",
            " 16  title           574338 non-null  object \n",
            " 17  also_buy        574338 non-null  object \n",
            " 18  image_y         574338 non-null  object \n",
            " 19  tech2           574338 non-null  object \n",
            " 20  brand           574338 non-null  object \n",
            " 21  feature         574338 non-null  object \n",
            " 22  rank            574338 non-null  object \n",
            " 23  also_view       574338 non-null  object \n",
            " 24  details         574338 non-null  object \n",
            " 25  main_cat        574338 non-null  object \n",
            " 26  similar_item    574338 non-null  object \n",
            " 27  date            574338 non-null  object \n",
            " 28  price           574338 non-null  object \n",
            "dtypes: bool(1), float64(1), int64(1), object(26)\n",
            "memory usage: 127.7+ MB\n"
          ],
          "name": "stdout"
        }
      ]
    },
    {
      "cell_type": "code",
      "metadata": {
        "id": "DJqL8On9jYmd"
      },
      "source": [
        "lux.reviewText = lux.reviewText.astype('str')\n",
        "lux.summary = lux.summary.astype('str')"
      ],
      "execution_count": null,
      "outputs": []
    },
    {
      "cell_type": "code",
      "metadata": {
        "id": "zi9FB2HtXung",
        "colab": {
          "base_uri": "https://localhost:8080/"
        },
        "outputId": "dc979dc8-0d8a-4586-8f0e-624628f6d3a7"
      },
      "source": [
        "import re\n",
        "import nltk\n",
        "nltk.download(\"stopwords\")\n",
        "nltk.download(\"wordnet\")\n",
        "nltk.download('punkt')\n",
        "from nltk.corpus import stopwords\n",
        "stop_words = stopwords.words(\"english\")\n",
        "additional_stop_words = [\"rt\",\"like\",\"amp\",\"i'm\",\"get\",\"u\",\"got\",\"lol\"] \n",
        "stop_words += additional_stop_words\n",
        "\n",
        "from nltk.stem import WordNetLemmatizer \n",
        "lemmatizer = WordNetLemmatizer()\n",
        "\n",
        "from nltk import word_tokenize\n",
        "\n",
        "def preprocess(text):\n",
        "  # Make all text lower case\n",
        "  text = text.lower()\n",
        "\n",
        "  #Removing special character\n",
        "  text = re.sub('[!\"”$%&’()*+,-./:;<=>?[\\]^_`{|}~@#]','',text)\n",
        "  \n",
        "  #text = [word for word in text if len(word)>2]\n",
        "\n",
        "  # Tokenize text\n",
        "  text = word_tokenize(text)\n",
        "  \n",
        "  # Lemmatize text\n",
        "  text = [lemmatizer.lemmatize(word) for word in text] \n",
        "  \n",
        "  # Remove stopwords from text\n",
        "  text = [word for word in text if word not in stop_words]\n",
        "  return text"
      ],
      "execution_count": null,
      "outputs": [
        {
          "output_type": "stream",
          "text": [
            "[nltk_data] Downloading package stopwords to /root/nltk_data...\n",
            "[nltk_data]   Unzipping corpora/stopwords.zip.\n",
            "[nltk_data] Downloading package wordnet to /root/nltk_data...\n",
            "[nltk_data]   Unzipping corpora/wordnet.zip.\n",
            "[nltk_data] Downloading package punkt to /root/nltk_data...\n",
            "[nltk_data]   Unzipping tokenizers/punkt.zip.\n"
          ],
          "name": "stdout"
        }
      ]
    },
    {
      "cell_type": "code",
      "metadata": {
        "id": "XRgT3Jevtax2"
      },
      "source": [
        "lux['clean_review'] = lux.reviewText.apply(preprocess)"
      ],
      "execution_count": null,
      "outputs": []
    },
    {
      "cell_type": "code",
      "metadata": {
        "id": "ePlxYUqnZBnh"
      },
      "source": [
        "lux['clean_summary'] = lux.summary.apply(preprocess)"
      ],
      "execution_count": null,
      "outputs": []
    },
    {
      "cell_type": "code",
      "metadata": {
        "id": "VtS4veiTtOGm",
        "colab": {
          "base_uri": "https://localhost:8080/",
          "height": 649
        },
        "outputId": "8e824235-da61-42a3-dbf9-1e69f4374862"
      },
      "source": [
        "lux.head()"
      ],
      "execution_count": null,
      "outputs": [
        {
          "output_type": "execute_result",
          "data": {
            "text/html": [
              "<div>\n",
              "<style scoped>\n",
              "    .dataframe tbody tr th:only-of-type {\n",
              "        vertical-align: middle;\n",
              "    }\n",
              "\n",
              "    .dataframe tbody tr th {\n",
              "        vertical-align: top;\n",
              "    }\n",
              "\n",
              "    .dataframe thead th {\n",
              "        text-align: right;\n",
              "    }\n",
              "</style>\n",
              "<table border=\"1\" class=\"dataframe\">\n",
              "  <thead>\n",
              "    <tr style=\"text-align: right;\">\n",
              "      <th></th>\n",
              "      <th>overall</th>\n",
              "      <th>vote</th>\n",
              "      <th>verified</th>\n",
              "      <th>reviewTime</th>\n",
              "      <th>reviewerID</th>\n",
              "      <th>asin</th>\n",
              "      <th>reviewerName</th>\n",
              "      <th>reviewText</th>\n",
              "      <th>summary</th>\n",
              "      <th>unixReviewTime</th>\n",
              "      <th>style</th>\n",
              "      <th>image_x</th>\n",
              "      <th>category</th>\n",
              "      <th>tech1</th>\n",
              "      <th>description</th>\n",
              "      <th>fit</th>\n",
              "      <th>title</th>\n",
              "      <th>also_buy</th>\n",
              "      <th>image_y</th>\n",
              "      <th>tech2</th>\n",
              "      <th>brand</th>\n",
              "      <th>feature</th>\n",
              "      <th>rank</th>\n",
              "      <th>also_view</th>\n",
              "      <th>details</th>\n",
              "      <th>main_cat</th>\n",
              "      <th>similar_item</th>\n",
              "      <th>date</th>\n",
              "      <th>price</th>\n",
              "      <th>clean_review</th>\n",
              "      <th>clean_summary</th>\n",
              "    </tr>\n",
              "  </thead>\n",
              "  <tbody>\n",
              "    <tr>\n",
              "      <th>0</th>\n",
              "      <td>2.0</td>\n",
              "      <td>3</td>\n",
              "      <td>True</td>\n",
              "      <td>06 15, 2010</td>\n",
              "      <td>A1Q6MUU0B2ZDQG</td>\n",
              "      <td>B00004U9V2</td>\n",
              "      <td>D. Poston</td>\n",
              "      <td>I bought two of these 8.5 fl oz hand cream, an...</td>\n",
              "      <td>dispensers don't work</td>\n",
              "      <td>1276560000</td>\n",
              "      <td>NaN</td>\n",
              "      <td>NaN</td>\n",
              "      <td>[]</td>\n",
              "      <td></td>\n",
              "      <td>[After a long day of handling thorny situation...</td>\n",
              "      <td></td>\n",
              "      <td>Crabtree &amp;amp; Evelyn - Gardener's Ultra-Moist...</td>\n",
              "      <td>[B00GHX7H0A, B00FRERO7G, B00R68QXCS, B000Z65AZ...</td>\n",
              "      <td>[https://images-na.ssl-images-amazon.com/image...</td>\n",
              "      <td></td>\n",
              "      <td></td>\n",
              "      <td>[]</td>\n",
              "      <td>4,324 in Beauty &amp; Personal Care (</td>\n",
              "      <td>[B00FRERO7G, B00GHX7H0A, B07GFHJRMX, B00TJ3NBN...</td>\n",
              "      <td>{'\n",
              "    Product Dimensions: \n",
              "    ': '2.2 x 2.2 ...</td>\n",
              "      <td>Luxury Beauty</td>\n",
              "      <td></td>\n",
              "      <td></td>\n",
              "      <td>$30.00</td>\n",
              "      <td>[bought, two, 85, fl, oz, hand, cream, neither...</td>\n",
              "      <td>[dispenser, n't, work]</td>\n",
              "    </tr>\n",
              "    <tr>\n",
              "      <th>1</th>\n",
              "      <td>5.0</td>\n",
              "      <td>14</td>\n",
              "      <td>True</td>\n",
              "      <td>01 7, 2010</td>\n",
              "      <td>A3HO2SQDCZIE9S</td>\n",
              "      <td>B00004U9V2</td>\n",
              "      <td>chandra</td>\n",
              "      <td>Believe me, over the years I have tried many, ...</td>\n",
              "      <td>Best hand cream ever.</td>\n",
              "      <td>1262822400</td>\n",
              "      <td>NaN</td>\n",
              "      <td>NaN</td>\n",
              "      <td>[]</td>\n",
              "      <td></td>\n",
              "      <td>[After a long day of handling thorny situation...</td>\n",
              "      <td></td>\n",
              "      <td>Crabtree &amp;amp; Evelyn - Gardener's Ultra-Moist...</td>\n",
              "      <td>[B00GHX7H0A, B00FRERO7G, B00R68QXCS, B000Z65AZ...</td>\n",
              "      <td>[https://images-na.ssl-images-amazon.com/image...</td>\n",
              "      <td></td>\n",
              "      <td></td>\n",
              "      <td>[]</td>\n",
              "      <td>4,324 in Beauty &amp; Personal Care (</td>\n",
              "      <td>[B00FRERO7G, B00GHX7H0A, B07GFHJRMX, B00TJ3NBN...</td>\n",
              "      <td>{'\n",
              "    Product Dimensions: \n",
              "    ': '2.2 x 2.2 ...</td>\n",
              "      <td>Luxury Beauty</td>\n",
              "      <td></td>\n",
              "      <td></td>\n",
              "      <td>$30.00</td>\n",
              "      <td>[believe, year, tried, many, many, different, ...</td>\n",
              "      <td>[best, hand, cream, ever]</td>\n",
              "    </tr>\n",
              "    <tr>\n",
              "      <th>2</th>\n",
              "      <td>5.0</td>\n",
              "      <td>NaN</td>\n",
              "      <td>True</td>\n",
              "      <td>04 18, 2018</td>\n",
              "      <td>A2EM03F99X3RJZ</td>\n",
              "      <td>B00004U9V2</td>\n",
              "      <td>Maureen G</td>\n",
              "      <td>Great hand lotion</td>\n",
              "      <td>Five Stars</td>\n",
              "      <td>1524009600</td>\n",
              "      <td>{'Size:': ' 3.5 oz.'}</td>\n",
              "      <td>NaN</td>\n",
              "      <td>[]</td>\n",
              "      <td></td>\n",
              "      <td>[After a long day of handling thorny situation...</td>\n",
              "      <td></td>\n",
              "      <td>Crabtree &amp;amp; Evelyn - Gardener's Ultra-Moist...</td>\n",
              "      <td>[B00GHX7H0A, B00FRERO7G, B00R68QXCS, B000Z65AZ...</td>\n",
              "      <td>[https://images-na.ssl-images-amazon.com/image...</td>\n",
              "      <td></td>\n",
              "      <td></td>\n",
              "      <td>[]</td>\n",
              "      <td>4,324 in Beauty &amp; Personal Care (</td>\n",
              "      <td>[B00FRERO7G, B00GHX7H0A, B07GFHJRMX, B00TJ3NBN...</td>\n",
              "      <td>{'\n",
              "    Product Dimensions: \n",
              "    ': '2.2 x 2.2 ...</td>\n",
              "      <td>Luxury Beauty</td>\n",
              "      <td></td>\n",
              "      <td></td>\n",
              "      <td>$30.00</td>\n",
              "      <td>[great, hand, lotion]</td>\n",
              "      <td>[five, star]</td>\n",
              "    </tr>\n",
              "    <tr>\n",
              "      <th>3</th>\n",
              "      <td>5.0</td>\n",
              "      <td>NaN</td>\n",
              "      <td>True</td>\n",
              "      <td>04 18, 2018</td>\n",
              "      <td>A3Z74TDRGD0HU</td>\n",
              "      <td>B00004U9V2</td>\n",
              "      <td>Terry K</td>\n",
              "      <td>This is the best for the severely dry skin on ...</td>\n",
              "      <td>Five Stars</td>\n",
              "      <td>1524009600</td>\n",
              "      <td>{'Size:': ' 3.5 oz.'}</td>\n",
              "      <td>NaN</td>\n",
              "      <td>[]</td>\n",
              "      <td></td>\n",
              "      <td>[After a long day of handling thorny situation...</td>\n",
              "      <td></td>\n",
              "      <td>Crabtree &amp;amp; Evelyn - Gardener's Ultra-Moist...</td>\n",
              "      <td>[B00GHX7H0A, B00FRERO7G, B00R68QXCS, B000Z65AZ...</td>\n",
              "      <td>[https://images-na.ssl-images-amazon.com/image...</td>\n",
              "      <td></td>\n",
              "      <td></td>\n",
              "      <td>[]</td>\n",
              "      <td>4,324 in Beauty &amp; Personal Care (</td>\n",
              "      <td>[B00FRERO7G, B00GHX7H0A, B07GFHJRMX, B00TJ3NBN...</td>\n",
              "      <td>{'\n",
              "    Product Dimensions: \n",
              "    ': '2.2 x 2.2 ...</td>\n",
              "      <td>Luxury Beauty</td>\n",
              "      <td></td>\n",
              "      <td></td>\n",
              "      <td>$30.00</td>\n",
              "      <td>[best, severely, dry, skin, hand]</td>\n",
              "      <td>[five, star]</td>\n",
              "    </tr>\n",
              "    <tr>\n",
              "      <th>4</th>\n",
              "      <td>5.0</td>\n",
              "      <td>NaN</td>\n",
              "      <td>True</td>\n",
              "      <td>04 17, 2018</td>\n",
              "      <td>A2UXFNW9RTL4VM</td>\n",
              "      <td>B00004U9V2</td>\n",
              "      <td>Patricia Wood</td>\n",
              "      <td>The best non- oily hand cream ever. It heals o...</td>\n",
              "      <td>I always have a backup ready.</td>\n",
              "      <td>1523923200</td>\n",
              "      <td>{'Size:': ' 3.5 oz.'}</td>\n",
              "      <td>NaN</td>\n",
              "      <td>[]</td>\n",
              "      <td></td>\n",
              "      <td>[After a long day of handling thorny situation...</td>\n",
              "      <td></td>\n",
              "      <td>Crabtree &amp;amp; Evelyn - Gardener's Ultra-Moist...</td>\n",
              "      <td>[B00GHX7H0A, B00FRERO7G, B00R68QXCS, B000Z65AZ...</td>\n",
              "      <td>[https://images-na.ssl-images-amazon.com/image...</td>\n",
              "      <td></td>\n",
              "      <td></td>\n",
              "      <td>[]</td>\n",
              "      <td>4,324 in Beauty &amp; Personal Care (</td>\n",
              "      <td>[B00FRERO7G, B00GHX7H0A, B07GFHJRMX, B00TJ3NBN...</td>\n",
              "      <td>{'\n",
              "    Product Dimensions: \n",
              "    ': '2.2 x 2.2 ...</td>\n",
              "      <td>Luxury Beauty</td>\n",
              "      <td></td>\n",
              "      <td></td>\n",
              "      <td>$30.00</td>\n",
              "      <td>[best, non, oily, hand, cream, ever, heals, ov...</td>\n",
              "      <td>[always, backup, ready]</td>\n",
              "    </tr>\n",
              "  </tbody>\n",
              "</table>\n",
              "</div>"
            ],
            "text/plain": [
              "   overall  ...              clean_summary\n",
              "0      2.0  ...     [dispenser, n't, work]\n",
              "1      5.0  ...  [best, hand, cream, ever]\n",
              "2      5.0  ...               [five, star]\n",
              "3      5.0  ...               [five, star]\n",
              "4      5.0  ...    [always, backup, ready]\n",
              "\n",
              "[5 rows x 31 columns]"
            ]
          },
          "metadata": {
            "tags": []
          },
          "execution_count": 27
        }
      ]
    },
    {
      "cell_type": "code",
      "metadata": {
        "colab": {
          "base_uri": "https://localhost:8080/",
          "height": 323
        },
        "id": "w-BLOSuBSteL",
        "outputId": "5cd016d9-89bd-49f6-db59-fd761ace093d"
      },
      "source": [
        "columns = ['overall', 'reviewText', 'clean_review']\n",
        "df = pd.DataFrame(lux, columns=columns)\n",
        "pd.set_option('display.max_colwidth', 0)\n",
        "df.head()"
      ],
      "execution_count": null,
      "outputs": [
        {
          "output_type": "execute_result",
          "data": {
            "text/html": [
              "<div>\n",
              "<style scoped>\n",
              "    .dataframe tbody tr th:only-of-type {\n",
              "        vertical-align: middle;\n",
              "    }\n",
              "\n",
              "    .dataframe tbody tr th {\n",
              "        vertical-align: top;\n",
              "    }\n",
              "\n",
              "    .dataframe thead th {\n",
              "        text-align: right;\n",
              "    }\n",
              "</style>\n",
              "<table border=\"1\" class=\"dataframe\">\n",
              "  <thead>\n",
              "    <tr style=\"text-align: right;\">\n",
              "      <th></th>\n",
              "      <th>overall</th>\n",
              "      <th>reviewText</th>\n",
              "      <th>clean_review</th>\n",
              "    </tr>\n",
              "  </thead>\n",
              "  <tbody>\n",
              "    <tr>\n",
              "      <th>0</th>\n",
              "      <td>2.0</td>\n",
              "      <td>I bought two of these 8.5 fl oz hand cream, and neither of the dispensers work.  The hand cream is wonderful, but very thick, so I don't see I can get much out by shaking it out, since the dispensers seem to be non-operable.</td>\n",
              "      <td>[bought, two, 85, fl, oz, hand, cream, neither, dispenser, work, hand, cream, wonderful, thick, n't, see, much, shaking, since, dispenser, seem, nonoperable]</td>\n",
              "    </tr>\n",
              "    <tr>\n",
              "      <th>1</th>\n",
              "      <td>5.0</td>\n",
              "      <td>Believe me, over the years I have tried many, many different hand creams. I am one of those people whose hands get so dry they have little cracks all over them.\\n\\nOf all the hand creams, this is the best. It really moisturizes but doesn't leave your hands feeling greasy. And it lasts. I think a lot of lotions just have too much water in them. It has a very nice, subtle scent. I have to avoid a lot of lotions just because the scent is too strong!\\n\\nI am overall very \"frugal\" but I think this cream is worth the money.</td>\n",
              "      <td>[believe, year, tried, many, many, different, hand, cream, one, people, whose, hand, dry, little, crack, hand, cream, best, really, moisturizes, doe, n't, leave, hand, feeling, greasy, last, think, lot, lotion, much, water, ha, nice, subtle, scent, avoid, lot, lotion, scent, strong, overall, frugal, think, cream, worth, money]</td>\n",
              "    </tr>\n",
              "    <tr>\n",
              "      <th>2</th>\n",
              "      <td>5.0</td>\n",
              "      <td>Great hand lotion</td>\n",
              "      <td>[great, hand, lotion]</td>\n",
              "    </tr>\n",
              "    <tr>\n",
              "      <th>3</th>\n",
              "      <td>5.0</td>\n",
              "      <td>This is the best for the severely dry skin on my hands</td>\n",
              "      <td>[best, severely, dry, skin, hand]</td>\n",
              "    </tr>\n",
              "    <tr>\n",
              "      <th>4</th>\n",
              "      <td>5.0</td>\n",
              "      <td>The best non- oily hand cream ever. It heals overnight.</td>\n",
              "      <td>[best, non, oily, hand, cream, ever, heals, overnight]</td>\n",
              "    </tr>\n",
              "  </tbody>\n",
              "</table>\n",
              "</div>"
            ],
            "text/plain": [
              "   overall  ...                                                                                                                                                                                                                                                                                                                              clean_review\n",
              "0  2.0      ...  [bought, two, 85, fl, oz, hand, cream, neither, dispenser, work, hand, cream, wonderful, thick, n't, see, much, shaking, since, dispenser, seem, nonoperable]                                                                                                                                                                           \n",
              "1  5.0      ...  [believe, year, tried, many, many, different, hand, cream, one, people, whose, hand, dry, little, crack, hand, cream, best, really, moisturizes, doe, n't, leave, hand, feeling, greasy, last, think, lot, lotion, much, water, ha, nice, subtle, scent, avoid, lot, lotion, scent, strong, overall, frugal, think, cream, worth, money]\n",
              "2  5.0      ...  [great, hand, lotion]                                                                                                                                                                                                                                                                                                                   \n",
              "3  5.0      ...  [best, severely, dry, skin, hand]                                                                                                                                                                                                                                                                                                       \n",
              "4  5.0      ...  [best, non, oily, hand, cream, ever, heals, overnight]                                                                                                                                                                                                                                                                                  \n",
              "\n",
              "[5 rows x 3 columns]"
            ]
          },
          "metadata": {
            "tags": []
          },
          "execution_count": 29
        }
      ]
    },
    {
      "cell_type": "code",
      "metadata": {
        "id": "z7_evDGylf1R",
        "colab": {
          "base_uri": "https://localhost:8080/"
        },
        "outputId": "dd028d2f-5968-40a5-f967-6d6ce29c8459"
      },
      "source": [
        "word_count = dict()\n",
        "\n",
        "for text in df['clean_review']:\n",
        "  for word in text:\n",
        "    if word in word_count: \n",
        "      word_count[word] += 1\n",
        "    else:\n",
        "      word_count[word] = 1\n",
        "\n",
        "sorted(word_count.items(),key = lambda x: x[1],reverse=True)[:10]"
      ],
      "execution_count": null,
      "outputs": [
        {
          "output_type": "execute_result",
          "data": {
            "text/plain": [
              "[('product', 260378),\n",
              " ('hair', 216530),\n",
              " (\"n't\", 187729),\n",
              " ('wa', 156703),\n",
              " ('love', 147536),\n",
              " ('skin', 135098),\n",
              " ('great', 132826),\n",
              " ('use', 128060),\n",
              " (\"'s\", 127381),\n",
              " ('doe', 97377)]"
            ]
          },
          "metadata": {
            "tags": []
          },
          "execution_count": 30
        }
      ]
    },
    {
      "cell_type": "code",
      "metadata": {
        "id": "CeAlShSBKn49",
        "colab": {
          "base_uri": "https://localhost:8080/"
        },
        "outputId": "9907351e-8b66-40b9-db54-c57a1509599b"
      },
      "source": [
        "!pip install WordCloud"
      ],
      "execution_count": null,
      "outputs": [
        {
          "output_type": "stream",
          "text": [
            "Requirement already satisfied: WordCloud in /usr/local/lib/python3.6/dist-packages (1.5.0)\n",
            "Requirement already satisfied: pillow in /usr/local/lib/python3.6/dist-packages (from WordCloud) (7.0.0)\n",
            "Requirement already satisfied: numpy>=1.6.1 in /usr/local/lib/python3.6/dist-packages (from WordCloud) (1.18.5)\n"
          ],
          "name": "stdout"
        }
      ]
    },
    {
      "cell_type": "code",
      "metadata": {
        "id": "ks8exZc4mLlR",
        "colab": {
          "base_uri": "https://localhost:8080/",
          "height": 217
        },
        "outputId": "4a9c7c3c-b6cf-4421-8ca2-373a37e39ffb"
      },
      "source": [
        "from wordcloud import WordCloud\n",
        "wordcloud = WordCloud(background_color = \"white\", max_words = 100)\n",
        "\n",
        "wordcloud.generate(\" \".join([word for text in df['clean_review'] for word in text]))\n",
        "wordcloud.to_image()"
      ],
      "execution_count": null,
      "outputs": [
        {
          "output_type": "execute_result",
          "data": {
            "image/png": "[encoded data removed]",
            "text/plain": [
              "<PIL.Image.Image image mode=RGB size=400x200 at 0x7FC4A0C91F60>"
            ]
          },
          "metadata": {
            "tags": []
          },
          "execution_count": 32
        }
      ]
    },
    {
      "cell_type": "code",
      "metadata": {
        "id": "iOlVwWK8pqEC",
        "colab": {
          "base_uri": "https://localhost:8080/"
        },
        "outputId": "8b7e41c6-25ea-4cf3-fb3f-5e6e1e47ac57"
      },
      "source": [
        "word_count_two = dict()\n",
        "\n",
        "for text in lux['clean_summary']:\n",
        "  for word in text:\n",
        "    if word in word_count_two: \n",
        "      word_count_two[word] += 1\n",
        "    else:\n",
        "      word_count_two[word] = 1\n",
        "\n",
        "sorted(word_count_two.items(),key = lambda x: x[1],reverse=True)[:10]"
      ],
      "execution_count": null,
      "outputs": [
        {
          "output_type": "execute_result",
          "data": {
            "text/plain": [
              "[('star', 159912),\n",
              " ('five', 118788),\n",
              " ('great', 62145),\n",
              " ('product', 52503),\n",
              " ('love', 47108),\n",
              " ('good', 27042),\n",
              " ('hair', 23746),\n",
              " ('best', 23122),\n",
              " ('work', 19817),\n",
              " ('four', 16221)]"
            ]
          },
          "metadata": {
            "tags": []
          },
          "execution_count": 30
        }
      ]
    },
    {
      "cell_type": "code",
      "metadata": {
        "id": "HFn5Y8_hpKnH",
        "colab": {
          "base_uri": "https://localhost:8080/",
          "height": 216
        },
        "outputId": "1a121aeb-25b6-4ac0-9b32-253cad0dbf0a"
      },
      "source": [
        "wordcloud.generate(\" \".join([word for text in lux['clean_summary'] for word in text]))\n",
        "wordcloud.to_image()"
      ],
      "execution_count": null,
      "outputs": [
        {
          "output_type": "execute_result",
          "data": {
            "image/png": "[encoded data removed]",
            "text/plain": [
              "<PIL.Image.Image image mode=RGB size=400x200 at 0x7F3AE85382B0>"
            ]
          },
          "metadata": {
            "tags": []
          },
          "execution_count": 31
        }
      ]
    },
    {
      "cell_type": "markdown",
      "metadata": {
        "id": "VCNUuX5FrxQ3"
      },
      "source": [
        "# LDA"
      ]
    },
    {
      "cell_type": "code",
      "metadata": {
        "id": "tIVcKd_RxEnV",
        "colab": {
          "base_uri": "https://localhost:8080/"
        },
        "outputId": "fa749034-5337-4716-800f-8c5814993419"
      },
      "source": [
        "!pip install -qq pyLDAvis"
      ],
      "execution_count": null,
      "outputs": [
        {
          "output_type": "stream",
          "text": [
            "\u001b[K     |████████████████████████████████| 1.6MB 6.8MB/s \n",
            "\u001b[?25h  Building wheel for pyLDAvis (setup.py) ... \u001b[?25l\u001b[?25hdone\n"
          ],
          "name": "stdout"
        }
      ]
    },
    {
      "cell_type": "code",
      "metadata": {
        "id": "04Qh1udNKn5H"
      },
      "source": [
        "!pip install -qq gensim"
      ],
      "execution_count": null,
      "outputs": []
    },
    {
      "cell_type": "code",
      "metadata": {
        "id": "CF-QiquUw-rX"
      },
      "source": [
        "from gensim.corpora.dictionary import Dictionary \n",
        "from gensim.models import LdaMulticore\n",
        "import pyLDAvis.gensim"
      ],
      "execution_count": null,
      "outputs": []
    },
    {
      "cell_type": "code",
      "metadata": {
        "id": "SqLyisYWpa7j"
      },
      "source": [
        "dictionary = Dictionary(lux['clean_review'])"
      ],
      "execution_count": null,
      "outputs": []
    },
    {
      "cell_type": "code",
      "metadata": {
        "id": "3KS93OCwzfQY"
      },
      "source": [
        "# filter out low-frequency / high-frequency, also limit the vocabulary to max 1000 words\n",
        "dictionary.filter_extremes(no_below=5, no_above=0.5, keep_n=1000)"
      ],
      "execution_count": null,
      "outputs": []
    },
    {
      "cell_type": "code",
      "metadata": {
        "id": "54rwSQx3w3rA"
      },
      "source": [
        "corpus = [dictionary.doc2bow(doc) for doc in lux['clean_review']]"
      ],
      "execution_count": null,
      "outputs": []
    },
    {
      "cell_type": "code",
      "metadata": {
        "id": "Ib7GUGykxo_o"
      },
      "source": [
        "#Train the model\n",
        "lda = LdaMulticore(corpus, id2word=dictionary, num_topics=4, workers=3, passes=1)"
      ],
      "execution_count": null,
      "outputs": []
    },
    {
      "cell_type": "code",
      "metadata": {
        "id": "9KO8tfwzxvZX",
        "colab": {
          "base_uri": "https://localhost:8080/"
        },
        "outputId": "438e1363-439c-42e5-c7be-b05b4bcf7489"
      },
      "source": [
        "# Inspect the topics\n",
        "lda.print_topics(0)"
      ],
      "execution_count": null,
      "outputs": [
        {
          "output_type": "execute_result",
          "data": {
            "text/plain": [
              "[(0,\n",
              "  '0.042*\"color\" + 0.022*\"love\" + 0.017*\"n\\'t\" + 0.017*\"look\" + 0.014*\"\\'s\" + 0.014*\"wa\" + 0.012*\"great\" + 0.011*\"nail\" + 0.011*\"lip\" + 0.011*\"doe\"'),\n",
              " (1,\n",
              "  '0.045*\"smell\" + 0.044*\"product\" + 0.044*\"love\" + 0.037*\"great\" + 0.023*\"scent\" + 0.022*\"good\" + 0.016*\"\\'s\" + 0.014*\"wa\" + 0.013*\"nice\" + 0.013*\"n\\'t\"'),\n",
              " (3,\n",
              "  '0.040*\"skin\" + 0.027*\"product\" + 0.023*\"n\\'t\" + 0.018*\"use\" + 0.016*\"face\" + 0.014*\"wa\" + 0.013*\"using\" + 0.012*\"\\'s\" + 0.011*\"doe\" + 0.011*\"feel\"'),\n",
              " (2,\n",
              "  '0.080*\"hair\" + 0.029*\"product\" + 0.024*\"wa\" + 0.020*\"n\\'t\" + 0.014*\"use\" + 0.012*\"work\" + 0.011*\"shampoo\" + 0.011*\"one\" + 0.010*\"doe\" + 0.009*\"love\"')]"
            ]
          },
          "metadata": {
            "tags": []
          },
          "execution_count": 39
        }
      ]
    },
    {
      "cell_type": "code",
      "metadata": {
        "id": "b9BeYEqGx2Z-",
        "colab": {
          "base_uri": "https://localhost:8080/",
          "height": 880
        },
        "outputId": "bae7a6cf-6082-464d-9862-cca7fc3c822d"
      },
      "source": [
        "# Visualizing\n",
        "lda_vis = pyLDAvis.gensim.prepare(lda, corpus, dictionary) \n",
        "pyLDAvis.display(lda_vis)"
      ],
      "execution_count": null,
      "outputs": [
        {
          "output_type": "execute_result",
          "data": {
            "text/html": [
              "\n",
              "<link rel=\"stylesheet\" type=\"text/css\" href=\"https://cdn.rawgit.com/bmabey/pyLDAvis/files/ldavis.v1.0.0.css\">\n",
              "\n",
              "\n",
              "<div id=\"ldavis_el2451398902841137363816256487\"></div>\n",
              "<script type=\"text/javascript\">\n",
              "\n",
              "var ldavis_el2451398902841137363816256487_data = {\"mdsDat\": {\"x\": [0.0034732486257524745, -0.027870631915919188, -0.11512024653609354, 0.13951762982626018], \"y\": [0.06687107447098549, 0.0896258918796815, -0.09464325001342838, -0.061853716337238726], \"topics\": [1, 2, 3, 4], \"cluster\": [1, 1, 1, 1], \"Freq\": [34.32397705214328, 28.85041478852993, 20.030092817253106, 16.795515342073696]}, \"tinfo\": {\"Term\": [\"hair\", \"smell\", \"color\", \"skin\", \"love\", \"scent\", \"great\", \"face\", \"look\", \"nail\", \"good\", \"product\", \"lip\", \"shampoo\", \"polish\", \"fragrance\", \"nice\", \"conditioner\", \"price\", \"eye\", \"cream\", \"makeup\", \"mascara\", \"curl\", \"apply\", \"foundation\", \"hold\", \"iron\", \"powder\", \"stuff\", \"acne\", \"clarisonic\", \"acid\", \"wrinkle\", \"breakout\", \"cleanser\", \"pimple\", \"cleared\", \"pore\", \"facial\", \"irritated\", \"redness\", \"face\", \"mask\", \"moisturize\", \"dermatologist\", \"rash\", \"prone\", \"la\", \"neck\", \"overnight\", \"toner\", \"cleansing\", \"reaction\", \"bump\", \"patch\", \"scrub\", \"forehead\", \"irritate\", \"moisturizers\", \"skin\", \"sensitive\", \"moisturizer\", \"serum\", \"sunscreen\", \"oily\", \"ingredient\", \"improvement\", \"night\", \"leg\", \"area\", \"irritation\", \"cream\", \"morning\", \"difference\", \"using\", \"sun\", \"result\", \"see\", \"feel\", \"week\", \"eye\", \"use\", \"tube\", \"n't\", \"oil\", \"line\", \"product\", \"water\", \"ha\", \"doe\", \"dry\", \"'s\", \"used\", \"wa\", \"day\", \"'ve\", \"'m\", \"really\", \"work\", \"make\", \"would\", \"time\", \"one\", \"well\", \"also\", \"little\", \"much\", \"year\", \"iron\", \"curling\", \"curl\", \"stylist\", \"frizzy\", \"curly\", \"chi\", \"wavy\", \"dryer\", \"barrel\", \"straightener\", \"wave\", \"hairdresser\", \"blow\", \"straighten\", \"tool\", \"flat\", \"roller\", \"babyliss\", \"cord\", \"frizz\", \"heat\", \"styling\", \"temperature\", \"hair\", \"hairspray\", \"comb\", \"volume\", \"mitchell\", \"paul\", \"scalp\", \"style\", \"button\", \"conditioner\", \"hold\", \"root\", \"curler\", \"salon\", \"hot\", \"shampoo\", \"return\", \"straight\", \"damaged\", \"fine\", \"wa\", \"spray\", \"product\", \"thick\", \"n't\", \"work\", \"use\", \"dry\", \"one\", \"time\", \"doe\", \"used\", \"brush\", \"would\", \"make\", \"'s\", \"great\", \"love\", \"really\", \"well\", \"much\", \"year\", \"ha\", \"using\", \"look\", \"cologne\", \"perfume\", \"sweet\", \"overpowering\", \"smelling\", \"floral\", \"de\", \"scent\", \"gift\", \"smell\", \"blade\", \"beard\", \"smelled\", \"men\", \"fragrance\", \"razor\", \"husband\", \"jack\", \"proraso\", \"man\", \"wife\", \"lather\", \"value\", \"soap\", \"christmas\", \"excellent\", \"bath\", \"shave\", \"fresh\", \"pleasant\", \"shaving\", \"sample\", \"wonderful\", \"strong\", \"great\", \"love\", \"price\", \"stuff\", \"good\", \"nice\", \"bottle\", \"product\", \"favorite\", \"clean\", \"amazing\", \"buy\", \"'s\", \"best\", \"size\", \"wa\", \"one\", \"n't\", \"ha\", \"last\", \"really\", \"work\", \"feel\", \"time\", \"doe\", \"well\", \"would\", \"used\", \"palette\", \"gloss\", \"polish\", \"shimmer\", \"pigmented\", \"lipstick\", \"manicure\", \"blush\", \"shade\", \"chip\", \"coat\", \"shellac\", \"cnd\", \"nail\", \"pink\", \"opi\", \"sheer\", \"color\", \"eyeliner\", \"liner\", \"matte\", \"shadow\", \"darker\", \"lash\", \"tint\", \"smudge\", \"neutral\", \"tan\", \"base\", \"orange\", \"coverage\", \"mascara\", \"powder\", \"lip\", \"blend\", \"foundation\", \"beautiful\", \"brown\", \"primer\", \"concealer\", \"dark\", \"stay\", \"look\", \"wear\", \"apply\", \"perfect\", \"natural\", \"love\", \"easy\", \"go\", \"light\", \"makeup\", \"'s\", \"n't\", \"day\", \"wa\", \"great\", \"doe\", \"one\", \"really\", \"well\", \"use\", \"nice\", \"product\", \"last\", \"would\", \"eye\", \"work\", \"good\"], \"Freq\": [225610.0, 89904.0, 68912.0, 138751.0, 158997.0, 46440.0, 129133.0, 54797.0, 55226.0, 18600.0, 81279.0, 276644.0, 19381.0, 36389.0, 16024.0, 19449.0, 45496.0, 22039.0, 36755.0, 31401.0, 37920.0, 25571.0, 12308.0, 16388.0, 20451.0, 12543.0, 19283.0, 15448.0, 11216.0, 28478.0, 10761.049132402433, 2861.9027992306856, 2591.5415825921314, 5219.608665473895, 5174.961071094046, 10934.276025673742, 1767.55513713962, 1438.3124640782269, 6370.818829841182, 7882.523296952146, 1763.160931285741, 3114.59424526399, 54658.011420336494, 9168.828475865887, 1975.3897595706167, 3876.414315891941, 1935.7577837962626, 2695.6891047796703, 1738.387171672756, 4715.218778826717, 1384.370248770584, 4130.672726045837, 4497.962370378175, 2839.1466211264947, 1796.8784067716083, 1875.3048531571271, 4135.4671538707, 1884.5913363035418, 2557.592327405283, 1871.0316355227956, 134469.02267506003, 16384.13135177147, 14551.63632704022, 8867.616831971622, 12529.485895206699, 13909.186920330996, 8751.643054482754, 4082.3166564502912, 11934.285035460922, 3614.733072573122, 9633.693844671143, 3471.5520447020876, 28743.9019534405, 8140.136041763388, 13444.83217279592, 43050.07612567929, 6723.324380454596, 15537.552660389065, 16481.022326061797, 36320.53016624607, 18665.260891323538, 20718.55294572238, 61467.48098183796, 8334.441161445746, 78439.99863483701, 14935.272126934133, 13445.462801830061, 92146.66108020113, 9941.501209396374, 30040.22738846265, 37387.59527896582, 25144.324763345237, 41418.12427126289, 29482.810933981375, 46197.909580193365, 25488.386238253366, 23181.126380736885, 21044.851702835524, 27392.64590583255, 26641.042770703934, 21753.247336751807, 22388.008402922904, 21636.58096543564, 22867.96729723063, 19623.192669100124, 17702.222900845136, 17764.884209650474, 17931.401649242624, 16529.960394094323, 15446.477655569193, 7499.190475236278, 16385.22783184079, 3881.5456059597086, 4909.405233198196, 9128.806730524795, 2108.01446565111, 3196.2751977729968, 10584.276479604801, 2006.4882293530422, 2298.0291076233348, 2788.820698743974, 2393.805071051764, 6707.440796756844, 1639.1663100526937, 5421.989778325064, 7733.859229717296, 3461.0768457008458, 1071.4499030057916, 1765.3535494914947, 5186.627457338788, 9402.919113215481, 4825.399627383831, 1745.6088252763398, 225296.05495706247, 3327.651989251853, 3726.7843495015313, 7949.194488222374, 1569.520893244294, 1642.3532877013788, 7570.40235023526, 6335.176886464658, 1910.4096546832504, 21397.1134497446, 18570.6479785035, 3629.8122805292196, 2469.3601425764236, 8598.308127336264, 8607.883564524825, 31198.541240782026, 7838.9905943826425, 5818.421053049989, 3833.5573307049876, 16432.139826373237, 67578.89453039106, 13386.75786729573, 81444.44930989733, 11117.929096254504, 57516.874288529216, 32935.58250890299, 39176.97166690903, 23074.886427286026, 29748.298952557714, 24370.017709022653, 29465.53742634756, 24941.331909905115, 15818.789693575147, 23127.120160250448, 21144.867531198295, 25053.033037141653, 24380.764034151653, 25818.693539056385, 18683.62020481051, 17418.67884456511, 15975.092685083273, 14789.369541699829, 16574.621593341224, 16005.330075004518, 14332.474035672421, 6196.429100141717, 11004.163352686437, 3458.300414878523, 3306.867837201119, 4185.65817560343, 2662.6983592217603, 1683.3910104862703, 45875.78006045779, 9615.249713225345, 88171.80298691154, 1653.6734224559743, 4570.520845849297, 3498.265403652376, 3803.4965321149525, 18147.47420649159, 3855.624380321226, 6616.361634494958, 1070.4818778132249, 1658.8553109359605, 2256.0070810202096, 7930.791291385367, 5559.249061000746, 2645.577209270883, 9889.630273403223, 2177.669752617112, 11196.711178456677, 2216.719523122638, 7175.760708226155, 6580.419806996154, 4338.135507318072, 5962.380851898648, 9100.476398469173, 10291.390724500221, 9790.73268904321, 73290.48485285083, 86380.7563093715, 23711.719320204913, 18530.411233699273, 42811.983576137674, 25024.64627063125, 20564.99614215667, 87101.32305442347, 11012.10119475162, 12138.287000554, 12804.151202346264, 14564.290553879544, 32102.464205854092, 16653.0415535784, 9847.562731433292, 27654.09604781099, 18881.787305649294, 24862.923380626064, 15645.689024288436, 12349.804721754374, 14412.17802784625, 14502.251617319138, 13022.301338004283, 12461.720879751678, 12925.712511306405, 11811.192248283012, 11718.06106539556, 11616.956338004851, 6278.026418488432, 4503.994849967215, 16017.78304540906, 2430.612301015749, 2516.989559411325, 6751.968243484311, 1658.2627029270202, 5065.929187917953, 9174.527683971222, 2001.3794633317043, 9198.629270119442, 1000.2133304013372, 1074.0574454394764, 18575.21019662544, 6032.813236378844, 1509.151314027925, 1924.037037376556, 68733.59085378598, 4456.175101528376, 3071.26904538211, 6293.011037355856, 5416.428488764083, 4714.509132482844, 9071.981951964699, 3400.0849402750455, 1585.4158161551657, 2166.9084170165056, 5866.465237136359, 4662.478246340676, 3918.403758952301, 8470.688905555973, 11828.573041611715, 10769.590121985253, 18025.155473530103, 6042.855180132938, 11470.44210914938, 9473.263612617877, 4898.938694643808, 5937.55486051278, 3850.331247632558, 9253.49457586962, 10095.406626634665, 27618.148654943918, 10192.41401403136, 12368.002433301752, 13190.155297843428, 9862.806132021142, 36477.95558862537, 11193.384405052439, 15666.02792588217, 12421.477587688327, 11549.931747087876, 23758.483588699688, 28811.02901952205, 16098.341203887663, 22332.424715164136, 20010.65700565347, 17555.067845108853, 15255.47500726676, 14448.26607797999, 13276.277132237768, 15190.407326158405, 12254.908899038312, 15952.423670475102, 11473.92324467337, 11477.104242603116, 10678.693720234969, 10998.148354268165, 10785.984850214876], \"Total\": [225610.0, 89904.0, 68912.0, 138751.0, 158997.0, 46440.0, 129133.0, 54797.0, 55226.0, 18600.0, 81279.0, 276644.0, 19381.0, 36389.0, 16024.0, 19449.0, 45496.0, 22039.0, 36755.0, 31401.0, 37920.0, 25571.0, 12308.0, 16388.0, 20451.0, 12543.0, 19283.0, 15448.0, 11216.0, 28478.0, 10763.495317464802, 2862.823795514292, 2592.60046332104, 5221.754864708485, 5177.20866203268, 10940.431277565021, 1768.7252136282455, 1439.3949098890557, 6377.537483120869, 7894.038493116196, 1766.455131513565, 3122.4886741642586, 54797.46973730422, 9201.764049431154, 1984.2017756521032, 3894.8027861522014, 1945.2855251135309, 2709.7781363318472, 1747.5564228956514, 4740.59771737575, 1392.2633272227756, 4156.397993472736, 4526.818147998956, 2857.463253409208, 1810.6742925663557, 1890.2718903309326, 4173.12463382044, 1903.151246218359, 2584.317016503643, 1892.1972000136484, 138751.98476428425, 16654.420496984956, 14779.118379968479, 9054.841428523387, 12892.250644091437, 14355.75284031601, 8993.949164909527, 4149.0547043786, 12510.454811748685, 3687.993760607267, 10462.282107764326, 3590.272939199247, 37920.83028528419, 9313.942283888564, 16602.859171105923, 65895.58742258612, 7695.350988259994, 20632.52328956635, 22985.29940508315, 61327.36899609215, 27019.371944386592, 31401.4579621975, 124265.92572940025, 10137.901539350893, 189630.82532351435, 21803.21048249573, 19454.178050619415, 276644.85711499705, 12969.07327835194, 69437.55942178589, 97333.91306172864, 54608.61774766788, 122332.10510295832, 73050.24773048832, 163763.32487355956, 60376.522272566166, 51149.13799763196, 44452.703000025984, 74936.7102164693, 85077.02525119422, 61366.76950509511, 68710.29387117202, 66436.91434252259, 86753.52856270439, 62129.34089418601, 42579.950339965486, 47499.956705392375, 50910.12696823218, 42407.835936175936, 15448.044204478469, 7500.448655756736, 16388.534564729245, 3882.4356671703567, 4910.660338406705, 9131.619716650484, 2108.81086971386, 3197.516388131616, 10588.586098436672, 2007.322230394249, 2299.0821603199643, 2790.1357083009825, 2394.946955474325, 6710.657308743605, 1640.0680836317406, 5425.027020277895, 7738.278515668383, 3463.4972499773608, 1072.243175794357, 1766.8122685042454, 5191.205321066495, 9412.216815362108, 4830.196155299272, 1747.9552255417173, 225610.86547238822, 3334.086170479051, 3734.0477561402204, 7964.802225256064, 1574.0151114481196, 1648.4969611803567, 7623.918003457172, 6371.3611262689155, 1917.9039493204584, 22039.65664214341, 19283.85053838311, 3678.973231458173, 2491.3416491989915, 9247.221650524207, 9272.096459205179, 36389.50471302429, 8408.146763466444, 6218.653086524765, 3987.9436520510617, 22962.880231513827, 163763.32487355956, 20641.67209518762, 276644.85711499705, 17756.809776149803, 189630.82532351435, 85077.02525119422, 124265.92572940025, 54608.61774766788, 86753.52856270439, 66436.91434252259, 97333.91306172864, 73050.24773048832, 33628.28379974202, 68710.29387117202, 61366.76950509511, 122332.10510295832, 129133.05457333986, 158997.92959889356, 74936.7102164693, 62129.34089418601, 50910.12696823218, 42407.835936175936, 69437.55942178589, 65895.58742258612, 55226.473719261834, 6197.995194159769, 11010.361382647077, 3465.1448815315157, 3315.284008700162, 4197.273823841072, 2688.326183259393, 1700.976599418699, 46440.74794344321, 9790.359175924983, 89904.59789732432, 1728.9631835508524, 4841.498966558648, 3717.7663781154492, 4043.2898119961787, 19449.62892451462, 4147.333529549225, 7160.728512218271, 1164.5731721753136, 1808.2022239124663, 2460.280800584199, 8784.378403086423, 6187.764950223791, 3003.9099689869904, 11246.682627550936, 2590.646563062358, 13459.762051454747, 2677.4896643255147, 8709.720859728632, 8100.039902967893, 5388.011987318043, 7405.388702000433, 11779.063368305899, 13544.76313214598, 12861.65777248755, 129133.05457333986, 158997.92959889356, 36755.981070715694, 28478.589341565286, 81279.01783906244, 45496.64611672049, 36983.33615638224, 276644.85711499705, 17883.74174742577, 21309.208688508723, 27043.42699694424, 33314.34957909274, 122332.10510295832, 43989.1872809199, 17936.694225908333, 163763.32487355956, 86753.52856270439, 189630.82532351435, 69437.55942178589, 37181.674750217935, 74936.7102164693, 85077.02525119422, 61327.36899609215, 66436.91434252259, 97333.91306172864, 62129.34089418601, 68710.29387117202, 73050.24773048832, 6278.8624108419535, 4505.698819786258, 16024.029851083245, 2431.7090036451414, 2518.3524239182234, 6756.860818802049, 1659.4899140969628, 5069.694695836444, 9181.525047980671, 2002.9729048165323, 9206.113039985154, 1001.0422628827513, 1074.9561132188035, 18600.11335044614, 6043.617580391031, 1511.9483404431026, 1927.6961659194967, 68912.25097238537, 4469.107047847957, 3088.007059371645, 6329.436023670464, 5456.307531743689, 4750.81506086374, 9147.428653176137, 3430.1637345621066, 1604.3701963195601, 2195.1873113309366, 5964.280294137945, 4742.3216307788, 3995.851552926457, 8702.946919830249, 12308.665066006859, 11216.410258468968, 19381.91490831986, 6342.2828881412215, 12543.377973881747, 10796.162516517476, 5282.066094436558, 6660.375469288568, 4115.074036869744, 12586.003749663832, 14326.219565257692, 55226.473719261834, 15003.723923678761, 20451.681572657188, 22870.79576070101, 15867.778807858183, 158997.92959889356, 21968.490227282757, 44186.162059585244, 28795.51946059033, 25571.014888380672, 122332.10510295832, 189630.82532351435, 60376.522272566166, 163763.32487355956, 129133.05457333986, 97333.91306172864, 86753.52856270439, 74936.7102164693, 62129.34089418601, 124265.92572940025, 45496.64611672049, 276644.85711499705, 37181.674750217935, 68710.29387117202, 31401.4579621975, 85077.02525119422, 81279.01783906244], \"Category\": [\"Default\", \"Default\", \"Default\", \"Default\", \"Default\", \"Default\", \"Default\", \"Default\", \"Default\", \"Default\", \"Default\", \"Default\", \"Default\", \"Default\", \"Default\", \"Default\", \"Default\", \"Default\", \"Default\", \"Default\", \"Default\", \"Default\", \"Default\", \"Default\", \"Default\", \"Default\", \"Default\", \"Default\", \"Default\", \"Default\", \"Topic1\", \"Topic1\", \"Topic1\", \"Topic1\", \"Topic1\", \"Topic1\", \"Topic1\", \"Topic1\", \"Topic1\", \"Topic1\", \"Topic1\", \"Topic1\", \"Topic1\", \"Topic1\", \"Topic1\", \"Topic1\", \"Topic1\", \"Topic1\", \"Topic1\", \"Topic1\", \"Topic1\", \"Topic1\", \"Topic1\", \"Topic1\", \"Topic1\", \"Topic1\", \"Topic1\", \"Topic1\", \"Topic1\", \"Topic1\", \"Topic1\", \"Topic1\", \"Topic1\", \"Topic1\", \"Topic1\", \"Topic1\", \"Topic1\", \"Topic1\", \"Topic1\", \"Topic1\", \"Topic1\", \"Topic1\", \"Topic1\", \"Topic1\", \"Topic1\", \"Topic1\", \"Topic1\", \"Topic1\", \"Topic1\", \"Topic1\", \"Topic1\", \"Topic1\", \"Topic1\", \"Topic1\", \"Topic1\", \"Topic1\", \"Topic1\", \"Topic1\", \"Topic1\", \"Topic1\", \"Topic1\", \"Topic1\", \"Topic1\", \"Topic1\", \"Topic1\", \"Topic1\", \"Topic1\", \"Topic1\", \"Topic1\", \"Topic1\", \"Topic1\", \"Topic1\", \"Topic1\", \"Topic1\", \"Topic1\", \"Topic1\", \"Topic1\", \"Topic1\", \"Topic1\", \"Topic2\", \"Topic2\", \"Topic2\", \"Topic2\", \"Topic2\", \"Topic2\", \"Topic2\", \"Topic2\", \"Topic2\", \"Topic2\", \"Topic2\", \"Topic2\", \"Topic2\", \"Topic2\", \"Topic2\", \"Topic2\", \"Topic2\", \"Topic2\", \"Topic2\", \"Topic2\", \"Topic2\", \"Topic2\", \"Topic2\", \"Topic2\", \"Topic2\", \"Topic2\", \"Topic2\", \"Topic2\", \"Topic2\", \"Topic2\", \"Topic2\", \"Topic2\", \"Topic2\", \"Topic2\", \"Topic2\", \"Topic2\", \"Topic2\", \"Topic2\", \"Topic2\", \"Topic2\", \"Topic2\", \"Topic2\", \"Topic2\", \"Topic2\", \"Topic2\", \"Topic2\", \"Topic2\", \"Topic2\", \"Topic2\", \"Topic2\", \"Topic2\", \"Topic2\", \"Topic2\", \"Topic2\", \"Topic2\", \"Topic2\", \"Topic2\", \"Topic2\", \"Topic2\", \"Topic2\", \"Topic2\", \"Topic2\", \"Topic2\", \"Topic2\", \"Topic2\", \"Topic2\", \"Topic2\", \"Topic2\", \"Topic2\", \"Topic3\", \"Topic3\", \"Topic3\", \"Topic3\", \"Topic3\", \"Topic3\", \"Topic3\", \"Topic3\", \"Topic3\", \"Topic3\", \"Topic3\", \"Topic3\", \"Topic3\", \"Topic3\", \"Topic3\", \"Topic3\", \"Topic3\", \"Topic3\", \"Topic3\", \"Topic3\", \"Topic3\", \"Topic3\", \"Topic3\", \"Topic3\", \"Topic3\", \"Topic3\", \"Topic3\", \"Topic3\", \"Topic3\", \"Topic3\", \"Topic3\", \"Topic3\", \"Topic3\", \"Topic3\", \"Topic3\", \"Topic3\", \"Topic3\", \"Topic3\", \"Topic3\", \"Topic3\", \"Topic3\", \"Topic3\", \"Topic3\", \"Topic3\", \"Topic3\", \"Topic3\", \"Topic3\", \"Topic3\", \"Topic3\", \"Topic3\", \"Topic3\", \"Topic3\", \"Topic3\", \"Topic3\", \"Topic3\", \"Topic3\", \"Topic3\", \"Topic3\", \"Topic3\", \"Topic3\", \"Topic3\", \"Topic3\", \"Topic4\", \"Topic4\", \"Topic4\", \"Topic4\", \"Topic4\", \"Topic4\", \"Topic4\", \"Topic4\", \"Topic4\", \"Topic4\", \"Topic4\", \"Topic4\", \"Topic4\", \"Topic4\", \"Topic4\", \"Topic4\", \"Topic4\", \"Topic4\", \"Topic4\", \"Topic4\", \"Topic4\", \"Topic4\", \"Topic4\", \"Topic4\", \"Topic4\", \"Topic4\", \"Topic4\", \"Topic4\", \"Topic4\", \"Topic4\", \"Topic4\", \"Topic4\", \"Topic4\", \"Topic4\", \"Topic4\", \"Topic4\", \"Topic4\", \"Topic4\", \"Topic4\", \"Topic4\", \"Topic4\", \"Topic4\", \"Topic4\", \"Topic4\", \"Topic4\", \"Topic4\", \"Topic4\", \"Topic4\", \"Topic4\", \"Topic4\", \"Topic4\", \"Topic4\", \"Topic4\", \"Topic4\", \"Topic4\", \"Topic4\", \"Topic4\", \"Topic4\", \"Topic4\", \"Topic4\", \"Topic4\", \"Topic4\", \"Topic4\", \"Topic4\", \"Topic4\", \"Topic4\", \"Topic4\", \"Topic4\", \"Topic4\"], \"logprob\": [30.0, 29.0, 28.0, 27.0, 26.0, 25.0, 24.0, 23.0, 22.0, 21.0, 20.0, 19.0, 18.0, 17.0, 16.0, 15.0, 14.0, 13.0, 12.0, 11.0, 10.0, 9.0, 8.0, 7.0, 6.0, 5.0, 4.0, 3.0, 2.0, 1.0, -5.746399879455566, -7.070799827575684, -7.170100212097168, -6.469900131225586, -6.478499889373779, -5.730400085449219, -7.552700042724609, -7.758800029754639, -6.270599842071533, -6.057700157165527, -7.555200099945068, -6.986199855804443, -4.121200084686279, -5.906499862670898, -7.4415998458862305, -6.767399787902832, -7.4618000984191895, -7.13070011138916, -7.569399833679199, -6.571499824523926, -7.797100067138672, -6.70389986038208, -6.61870002746582, -7.078800201416016, -7.536300182342529, -7.493500232696533, -6.702700138092041, -7.48859977722168, -7.183300018310547, -7.495800018310547, -3.2209999561309814, -5.326000213623047, -5.4446001052856445, -5.939899921417236, -5.594200134277344, -5.489799976348877, -5.953100204467773, -6.715700149536133, -5.642899990081787, -6.837299823760986, -5.857100009918213, -6.877699851989746, -4.763899803161621, -6.0254998207092285, -5.52370023727417, -4.360000133514404, -6.216700077056885, -5.3790998458862305, -5.320099830627441, -4.529900074005127, -5.195700168609619, -5.091300010681152, -4.003799915313721, -6.0019001960754395, -3.759999990463257, -5.418600082397461, -5.52370023727417, -3.598900079727173, -5.8256001472473145, -4.719799995422363, -4.500999927520752, -4.89769983291626, -4.398600101470947, -4.738500118255615, -4.289400100708008, -4.884099960327148, -4.979000091552734, -5.075699806213379, -4.811999797821045, -4.839900016784668, -5.042600154876709, -5.013800144195557, -5.047900199890137, -4.992599964141846, -5.145599842071533, -5.248600006103516, -5.245100021362305, -5.235799789428711, -5.3171000480651855, -5.21120023727417, -5.933800220489502, -5.152200222015381, -6.592400074005127, -6.357399940490723, -5.737199783325195, -7.202899932861328, -6.786600112915039, -5.589200019836426, -7.252200126647949, -7.116499900817871, -6.922999858856201, -7.075699806213379, -6.045400142669678, -7.454400062561035, -6.2581000328063965, -5.9029998779296875, -6.706999778747559, -7.8796000480651855, -7.380199909210205, -6.302499771118164, -5.707600116729736, -6.37470006942749, -7.391499996185303, -2.5311999320983887, -6.746300220489502, -6.6331000328063965, -5.875500202178955, -7.497799873352051, -7.452499866485596, -5.9243998527526855, -6.102499961853027, -7.301300048828125, -4.885300159454346, -5.0269999504089355, -6.65939998626709, -7.044600009918213, -5.796999931335449, -5.795899868011475, -4.508200168609619, -5.889500141143799, -6.187600135803223, -6.604800224304199, -5.149400234222412, -3.735300064086914, -5.354300022125244, -3.5487000942230225, -5.539999961853027, -3.8965001106262207, -4.453999996185303, -4.2804999351501465, -4.809899806976318, -4.555799961090088, -4.755199909210205, -4.565400123596191, -4.732100009918213, -5.187399864196777, -4.807600021362305, -4.897200107574463, -4.72760009765625, -4.754799842834473, -4.697500228881836, -5.020999908447266, -5.091100215911865, -5.177599906921387, -5.254700183868408, -5.140699863433838, -5.1757001876831055, -5.286099910736084, -5.759699821472168, -5.185400009155273, -6.342899799346924, -6.387700080871582, -6.1519999504089355, -6.604400157928467, -7.062900066375732, -3.7578001022338867, -5.320400238037109, -3.1043999195098877, -7.080699920654297, -6.0640997886657715, -6.331399917602539, -6.247799873352051, -4.685200214385986, -6.2342000007629395, -5.694200038909912, -7.515600204467773, -7.077600002288818, -6.770100116729736, -5.513000011444092, -5.868199825286865, -6.610799789428711, -5.292200088500977, -6.805500030517578, -5.168099880218506, -6.787700176239014, -5.61299991607666, -5.6996002197265625, -6.116300106048584, -5.7982001304626465, -5.375400066375732, -5.252399921417236, -5.302299976348877, -3.289299964904785, -3.1249001026153564, -4.417699813842773, -4.664299964904785, -3.826900005340576, -4.363800048828125, -4.560100078582764, -3.1166000366210938, -5.184700012207031, -5.087299823760986, -5.033899784088135, -4.905099868774414, -4.114799976348877, -4.771100044250488, -5.296500205993652, -4.263899803161621, -4.645500183105469, -4.370299816131592, -4.833499908447266, -5.070099830627441, -4.915599822998047, -4.90939998626709, -5.017000198364258, -5.060999870300293, -5.024499893188477, -5.114699840545654, -5.122600078582764, -5.131199836730957, -5.570499897003174, -5.902599811553955, -4.633900165557861, -6.519400119781494, -6.484499931335449, -5.497799873352051, -6.901800155639648, -5.784999847412109, -5.191199779510498, -6.713699817657471, -5.188499927520752, -7.407400131225586, -7.336100101470947, -4.485799789428711, -5.610400199890137, -6.995999813079834, -6.753200054168701, -3.177299976348877, -5.913300037384033, -6.2855000495910645, -5.5680999755859375, -5.718100070953369, -5.856900215148926, -5.202400207519531, -6.183800220489502, -6.946700096130371, -6.634300231933594, -5.638299942016602, -5.868000030517578, -6.041900157928467, -5.270999908447266, -4.937099933624268, -5.030900001525879, -4.5157999992370605, -5.608699798583984, -4.967800140380859, -5.15910005569458, -5.818600177764893, -5.626299858093262, -6.0594000816345215, -5.182600021362305, -5.0954999923706055, -4.089099884033203, -5.085899829864502, -4.892499923706055, -4.828100204467773, -5.118800163269043, -3.8108999729156494, -4.992300033569336, -4.656099796295166, -4.888199806213379, -4.960899829864502, -4.23960018157959, -4.046800136566162, -4.628900051116943, -4.301499843597412, -4.411300182342529, -4.542200088500977, -4.682600021362305, -4.736999988555908, -4.821599960327148, -4.6869001388549805, -4.901700019836426, -4.638000011444092, -4.96750020980835, -4.967199802398682, -5.039299964904785, -5.009900093078613, -5.029300212860107], \"loglift\": [30.0, 29.0, 28.0, 27.0, 26.0, 25.0, 24.0, 23.0, 22.0, 21.0, 20.0, 19.0, 18.0, 17.0, 16.0, 15.0, 14.0, 13.0, 12.0, 11.0, 10.0, 9.0, 8.0, 7.0, 6.0, 5.0, 4.0, 3.0, 2.0, 1.0, 1.0691, 1.069, 1.0689, 1.0689, 1.0689, 1.0688, 1.0687, 1.0686, 1.0683, 1.0679, 1.0675, 1.0668, 1.0668, 1.0657, 1.0649, 1.0646, 1.0644, 1.0641, 1.0641, 1.064, 1.0636, 1.0631, 1.0629, 1.0629, 1.0617, 1.0614, 1.0603, 1.0595, 1.0589, 1.0581, 1.038, 1.053, 1.0538, 1.0484, 1.0408, 1.0377, 1.042, 1.0531, 1.0222, 1.0493, 0.9868, 1.0357, 0.7923, 0.9346, 0.8583, 0.6436, 0.9343, 0.7857, 0.7367, 0.5455, 0.6994, 0.6535, 0.3654, 0.8734, 0.1866, 0.691, 0.6999, -0.03, 0.8035, 0.2314, 0.1125, 0.2938, -0.0137, 0.162, -0.1962, 0.2069, 0.2779, 0.3216, 0.063, -0.0918, 0.0322, -0.052, -0.0525, -0.264, -0.0832, 0.1916, 0.0858, 0.0258, 0.1272, 1.2429, 1.2429, 1.2428, 1.2428, 1.2428, 1.2427, 1.2427, 1.2427, 1.2426, 1.2426, 1.2426, 1.2426, 1.2426, 1.2426, 1.2425, 1.2425, 1.2425, 1.2423, 1.2423, 1.2422, 1.2422, 1.2421, 1.2421, 1.2417, 1.2416, 1.2411, 1.2411, 1.2411, 1.2402, 1.2393, 1.236, 1.2374, 1.2391, 1.2135, 1.2054, 1.2296, 1.2342, 1.1703, 1.1687, 1.0891, 1.173, 1.1765, 1.2036, 0.9084, 0.3579, 0.81, 0.0202, 0.7748, 0.05, 0.294, 0.0887, 0.3816, 0.1727, 0.2401, 0.0481, 0.1684, 0.4889, 0.1542, 0.1776, -0.3427, -0.424, -0.5747, -0.146, -0.0286, 0.084, 0.1896, -0.1895, -0.1721, -0.1059, 1.6077, 1.6074, 1.606, 1.6054, 1.6052, 1.5984, 1.5975, 1.5957, 1.5899, 1.5885, 1.5634, 1.5503, 1.5471, 1.5468, 1.5386, 1.535, 1.5289, 1.5237, 1.5217, 1.5213, 1.5057, 1.5008, 1.4809, 1.4793, 1.4343, 1.4238, 1.4191, 1.4142, 1.4002, 1.3912, 1.3912, 1.3499, 1.3332, 1.3351, 1.0415, 0.9978, 1.1696, 1.1782, 0.9669, 1.0102, 1.0211, 0.4523, 1.123, 1.0452, 0.8603, 0.7805, 0.2701, 0.6366, 1.0083, -0.1707, 0.0831, -0.4238, 0.1177, 0.5058, -0.0406, -0.1613, 0.0584, -0.0657, -0.411, -0.0522, -0.1608, -0.2307, 1.7839, 1.7837, 1.7837, 1.7836, 1.7835, 1.7833, 1.7833, 1.7833, 1.7833, 1.7833, 1.7832, 1.7832, 1.7832, 1.7827, 1.7823, 1.7822, 1.7822, 1.7815, 1.7812, 1.7786, 1.7783, 1.7767, 1.7764, 1.7758, 1.7753, 1.7722, 1.7711, 1.7675, 1.7671, 1.7645, 1.757, 1.7443, 1.7434, 1.7115, 1.7357, 1.6946, 1.6533, 1.7088, 1.6692, 1.7176, 1.4765, 1.434, 1.0911, 1.3974, 1.2811, 1.2337, 1.3085, 0.3119, 1.1098, 0.7471, 0.9433, 0.9893, 0.1453, -0.1003, 0.4622, -0.2083, -0.0805, 0.0713, 0.0459, 0.138, 0.2408, -0.3177, 0.4723, -1.0691, 0.6083, -0.0055, 0.7055, -0.2618, -0.2356]}, \"token.table\": {\"Topic\": [1, 2, 3, 4, 1, 2, 3, 4, 1, 2, 3, 4, 1, 1, 2, 4, 1, 2, 3, 4, 1, 2, 3, 4, 1, 2, 3, 4, 1, 2, 3, 4, 2, 2, 1, 2, 3, 4, 1, 2, 3, 4, 1, 2, 3, 1, 2, 3, 4, 1, 2, 3, 4, 1, 2, 3, 1, 2, 3, 4, 1, 2, 3, 1, 2, 4, 1, 2, 3, 4, 1, 3, 4, 1, 2, 3, 4, 1, 2, 3, 4, 1, 2, 3, 1, 2, 3, 1, 2, 3, 4, 2, 2, 4, 1, 2, 3, 4, 1, 1, 2, 3, 4, 1, 2, 3, 1, 2, 3, 1, 4, 1, 2, 3, 4, 1, 3, 1, 2, 3, 4, 1, 2, 3, 1, 4, 1, 2, 3, 1, 2, 3, 1, 2, 3, 4, 1, 2, 3, 4, 1, 2, 3, 4, 1, 2, 4, 1, 2, 1, 2, 3, 1, 2, 3, 4, 1, 2, 3, 4, 1, 2, 3, 4, 1, 2, 3, 4, 1, 2, 3, 4, 1, 2, 3, 4, 1, 2, 3, 4, 1, 2, 3, 4, 1, 2, 3, 4, 1, 2, 3, 4, 1, 2, 3, 4, 1, 2, 3, 4, 1, 2, 3, 4, 1, 4, 1, 2, 3, 4, 1, 3, 4, 1, 2, 3, 4, 1, 2, 3, 4, 1, 2, 3, 4, 1, 2, 4, 1, 3, 1, 2, 4, 1, 2, 4, 1, 2, 3, 4, 1, 2, 3, 4, 1, 2, 3, 1, 2, 1, 2, 3, 4, 1, 4, 1, 2, 3, 4, 1, 2, 3, 4, 1, 2, 3, 4, 1, 2, 3, 4, 1, 2, 3, 4, 2, 3, 1, 2, 3, 4, 1, 2, 3, 4, 1, 2, 3, 4, 1, 2, 3, 4, 1, 2, 3, 4, 1, 2, 3, 4, 1, 2, 3, 4, 1, 2, 1, 3, 4, 1, 3, 1, 2, 3, 4, 1, 2, 3, 4, 1, 4, 1, 2, 3, 4, 1, 2, 3, 4, 1, 2, 3, 4, 1, 2, 3, 4, 1, 2, 3, 4, 1, 2, 3, 4, 1, 2, 4, 1, 2, 3, 4, 1, 3, 4, 1, 2, 3, 4, 1, 2, 3, 4, 1, 2, 3, 4, 1, 2, 3, 4, 1, 2, 3, 4, 1, 2, 3, 4, 2, 4, 1, 2, 3, 4, 1, 2, 3, 4, 1, 2, 3, 4, 1, 2, 3, 4, 2, 3, 1, 2, 3, 4, 1, 2, 3, 4, 1, 3, 4, 1, 2, 3, 4, 1, 2, 3, 4, 1, 2, 3, 4, 1, 2, 3, 4, 1, 2, 3, 4, 1, 2, 3, 1, 3, 4, 1, 2, 3, 4, 1, 2, 3, 4, 1, 2, 3, 4, 1, 2, 3, 4, 1, 2, 3, 4, 1, 2, 3, 4, 1, 2, 3, 4, 1, 2, 3, 4, 1, 3, 4, 4, 1, 2, 3, 4, 2, 3, 1, 2, 3, 4, 1, 2, 3, 4, 1, 4, 1, 1, 2, 3, 4, 1, 2, 3, 4, 1, 2, 3, 4, 1, 4, 1, 2, 3, 4, 1, 2, 3, 4, 1, 2, 4, 1, 2, 3, 4, 1, 2, 3, 4, 1, 2, 3, 1, 3, 1, 2, 3, 1, 2, 3, 4, 1, 2, 3, 4, 1, 4, 1, 2, 3, 4, 1, 2, 3, 4, 1, 2, 4, 1, 2, 4, 1, 2, 3, 4, 1, 2, 3, 4, 1, 2, 3, 1, 2, 3, 4, 1, 3, 4, 1, 2, 3, 4, 1, 2, 3, 4, 1, 2, 3, 4, 1, 2, 4, 1, 2, 3, 4, 1, 2, 3, 4, 1, 2, 3, 4, 1, 2, 3, 1, 2, 3, 4, 4, 4, 1, 2, 3, 4, 1, 2, 3, 4, 1, 2, 3, 4, 1, 2, 3, 4, 1, 2, 3, 4, 1, 4, 1, 2, 3, 4, 1, 2, 3, 4, 1, 2, 3, 4, 1, 2, 3, 4, 2, 2, 1, 2, 3, 4, 1, 2, 3, 4, 1, 2, 3, 4, 1, 2, 3, 2, 1, 2, 3, 4, 1, 3, 4, 1, 2, 3, 4, 1, 2, 4, 1, 2, 1, 2, 3, 4, 1, 2, 3, 4, 1, 2, 3, 4, 1, 3, 1, 2, 4, 1, 2, 3, 4, 1, 2, 3, 4, 1, 2, 3, 4, 1, 2, 3, 4, 1, 2, 3, 4, 1, 2, 3, 4, 1, 2, 3, 4, 1, 2, 3, 4, 1, 2, 1, 2, 1, 2, 3, 4, 1, 2, 3, 4, 1, 2, 3, 4, 1, 2, 3, 4, 1, 2, 3, 4, 1, 2, 3, 4, 1, 2, 3, 4, 1, 4, 1, 2, 3, 4], \"Freq\": [0.4734245294372245, 0.2377808161630536, 0.11666332191311221, 0.1721380137445304, 0.338570156747825, 0.20479497167905886, 0.2624168036099927, 0.1942090343332567, 0.45320411853418147, 0.272927375641136, 0.1489956683209955, 0.12487013955730197, 0.9997683934221508, 0.9997681684814084, 9.290662284930846e-05, 9.290662284930846e-05, 0.41573557175769943, 0.2740021983785493, 0.1370128418051304, 0.17325055433603823, 0.18736530694029804, 0.22589592660317362, 0.4734607045714577, 0.11326227257906708, 0.3687227367201882, 0.02523019919740314, 0.001320184841724583, 0.6047424489796164, 0.9208316025860518, 0.06270142529545879, 0.00019116288199834996, 0.016344426410858922, 0.9988405840928425, 0.9993412963926628, 0.006326015469995294, 0.008012952928660706, 0.0025304061879981177, 0.9830628040372688, 0.16732090732938665, 0.0018674208407297617, 0.8280144007795763, 0.0029878733451676187, 0.05556130484753692, 0.000206547601663706, 0.9441290872048002, 0.0019451355949737946, 0.09994291937984402, 0.02065548750853125, 0.8774414043422265, 0.18740969109869862, 0.2689069912671647, 0.3785703039624731, 0.16510875624088403, 0.03701640417152215, 0.006362194466980371, 0.9566426953077758, 0.04651322011378426, 0.0006306877303563968, 0.0001576719325890992, 0.9528114886359265, 0.0002980333979197706, 0.9994549999239508, 0.0001490166989598853, 0.00039450107353457145, 0.00019725053676728573, 0.9992712192630695, 0.17424063564065337, 0.21190624790747992, 0.5560612464230349, 0.057782780627572354, 0.999573387480231, 0.00019315427777395766, 0.00019315427777395766, 0.026883419756819085, 0.045247445928730715, 0.00018931985744238795, 0.9274779816102585, 0.17613149797568434, 0.47040759184152464, 0.0855529832308026, 0.2679292245080054, 0.9924479556469682, 0.003865963099348234, 0.0033136826565842007, 0.0031284152692453073, 0.9958788607097562, 0.0005214025448742179, 0.15674927068896455, 0.2781083862376975, 0.437168973250494, 0.12793285937885232, 0.9996154848566529, 0.0004992578769264968, 0.99901501172992, 0.0011580120741957762, 0.13124136840885464, 0.8407167658661335, 0.026634277706502854, 0.9997122437239823, 0.4223995424501103, 0.0052559436456407465, 0.5696128925963159, 0.002721827959349672, 0.9994121550237046, 9.140407490613725e-05, 0.00045702037453068623, 0.993633906409142, 0.0004418114301507968, 0.005964454307035756, 0.9990309053620572, 0.9991105560431295, 0.00021724695224937466, 0.0005431173806234366, 0.00010862347612468733, 0.9992273568709987, 0.00016134249360862321, 0.9996780903990294, 0.0001451120788959167, 0.0023508156781138507, 0.0001015784552271417, 0.997413363083194, 0.0008034176839508382, 0.9981125693615913, 0.0010712235786011176, 0.06415437429184617, 0.9355846250894234, 0.0006805913650813215, 0.9708408959096692, 0.028448719060399242, 0.0005659910890513477, 0.9989742721756287, 0.0005659910890513477, 0.026427829805089304, 0.00022980721569642874, 0.00011490360784821437, 0.9733484620822239, 0.7580002806835848, 0.00010548292244413928, 0.24134492655219067, 0.0005274146122206964, 6.1018268354033335e-05, 0.9997843269808362, 6.1018268354033335e-05, 6.1018268354033335e-05, 0.0004013901506931082, 0.9910322820612842, 0.008429193164555274, 0.0001333253577080994, 0.9998068574530372, 0.00010950959753356923, 0.9997131158839535, 0.00021901919506713845, 0.03686110256959012, 0.9613977364068607, 0.0002507557997931301, 0.0015045347987587803, 0.2583822525944234, 0.006197360302080265, 0.0001589066744123145, 0.735181729168573, 0.00631470592217617, 0.0010524509870293618, 0.00021049019740587233, 0.9924612807686881, 0.42215084673038905, 0.2312985159522082, 0.07991516931395665, 0.26662681774426406, 0.009406361031343952, 0.000587897564458997, 0.9894316009844919, 0.000587897564458997, 0.9951723393494906, 0.0002567524095328923, 0.00436479096205917, 0.0002567524095328923, 0.8098002796649888, 0.17743931750785102, 0.009938047314594507, 0.002830837719914799, 0.38412099980290254, 0.3027310736116488, 0.132800578887673, 0.1803585148052839, 0.4604401473075887, 0.42255235440353994, 0.02265210237907601, 0.09436239576344276, 0.00018888263092041018, 0.9995668828308107, 9.444131546020509e-05, 9.444131546020509e-05, 0.11958036136400116, 0.2969252749057402, 0.07401509995350813, 0.5095024684991493, 0.07169517531669155, 0.05869345958568531, 0.8318869202290107, 0.03766782786068665, 0.6598101280820295, 3.184565510314347e-05, 9.553696530943041e-05, 0.34007975084646913, 0.002685100148983554, 0.997067188655893, 0.99745481428298, 7.299607115393758e-05, 0.0012226841918284543, 0.0012591822274054232, 0.998601667178869, 0.001266778722794455, 0.0001266778722794455, 0.030083189949745334, 0.03740827895237849, 0.6157548099007354, 0.31676816183142625, 0.592247810309854, 0.16971215576952617, 0.21233586591379416, 0.025698151181088896, 0.24400249200057, 0.7155896749158248, 0.0037016262395231933, 0.03666787404327681, 0.00025845541691868826, 0.9994470972245675, 0.00025845541691868826, 0.009299466766971477, 0.9905792000178019, 0.9904625308921579, 0.008932553329000894, 0.0010508886269412815, 0.08546342159441861, 7.97233410395696e-05, 0.9144267217238633, 0.06668507687389555, 5.141486266298809e-05, 0.9330255127452448, 0.00020565945065195235, 0.16197451070818517, 0.0003703685458266429, 0.81234167717977, 0.02530851729815393, 0.00019263349032678162, 0.9991899143250162, 0.0005779004709803449, 0.00020363860073540667, 0.9996618910101114, 0.0009192716874097409, 0.015934042581768844, 0.9820885860494066, 0.0010214129860108233, 0.00022194115496770777, 0.9996229619745558, 0.34071753006514266, 0.16195115543979813, 0.14278225819867052, 0.3545453886416821, 0.19586850854328236, 0.14469909101617737, 0.5267288057635053, 0.13270337519772887, 0.08867597872469218, 0.18880526043897652, 0.567554142060317, 0.1549641961627644, 0.43261889170855583, 0.23870366611415822, 0.22532473966950947, 0.103359047463126, 0.0008244283785293308, 0.9986043869308823, 0.0005318892764705359, 3.5459285098035736e-05, 0.9996046027357055, 0.0004175457822621995, 0.00029993225995605184, 0.9981745611337405, 0.001499661299780259, 0.00029993225995605184, 0.0007437142744709175, 0.9990207604071483, 0.00010624489635298822, 0.00010624489635298822, 0.016697909961451023, 0.9630338071245557, 0.012290076586533827, 0.008037813801319592, 0.06071981697742836, 0.9283768819568443, 0.0011863552162552611, 0.009706542678452135, 0.0578153464823581, 0.017595975016369857, 0.9239283389547855, 0.0006982529768400737, 0.9838385586220795, 0.015425200331164401, 0.00048203751034888755, 0.00024101875517444377, 0.9730986732887587, 0.0025572748498219207, 0.02068057052464684, 0.0036691334801792776, 6.473311357499189e-05, 0.9998676722793248, 0.9898166454287223, 0.0019347471568192383, 0.008125938058640802, 0.9980440309793748, 0.0011322110391144354, 0.9670573961361205, 0.0002785303560299886, 0.029524217739178793, 0.0036208946283898522, 0.07814021666841296, 0.0008586836996528897, 0.918791558628592, 0.0017173673993057794, 0.9945315511588366, 0.0045778207187978665, 0.007871064397424998, 0.00021864067770624996, 0.00010932033885312498, 0.9917541140755498, 0.16930383158609882, 0.18995916798929563, 0.33215287054619863, 0.30859287746130226, 0.10132899440165766, 0.00016160924146994842, 0.8983857733314433, 0.00016160924146994842, 0.9802077320772777, 0.0002711501333547103, 0.013015206401026094, 0.006507603200513047, 0.22041623554270418, 0.10852382796139129, 0.23965533976369963, 0.4313518294747012, 0.6911111826475709, 0.08095947286499994, 0.06271146469542853, 0.16515732464459987, 0.0051813353053848646, 0.00032383345658655403, 0.9944925451773075, 0.06949777699322104, 5.1594489230305153e-05, 0.0005159448923030516, 0.9299906683762504, 0.0005919908826402578, 0.00014799772066006445, 0.9992806098967552, 0.3740003408883792, 0.22711599648206218, 0.18178963937918122, 0.2170949347166319, 0.2345252037245792, 0.2595132195630535, 0.005866751544685273, 0.5000862474108576, 0.06491279494039287, 0.16238576228718182, 0.5432838038703688, 0.22942437107214914, 0.3544752343235847, 0.3445675920457959, 0.13319912496487754, 0.16774550922295686, 0.5478468516462994, 0.00015642711161290582, 0.00031285422322581164, 0.45168328478226555, 0.07763341483404929, 0.0044710343621703775, 0.9169685019142156, 0.0012193730078646485, 0.0006025948042860902, 0.9991021855063376, 0.038834430658130775, 8.124357878270036e-05, 0.00016248715756540073, 0.9610302934205626, 0.9964393730098763, 0.0030428948025167995, 0.00043469925750239997, 0.00010867481437559999, 0.0052137346639714, 0.00047397587854285453, 0.00015799195951428485, 0.9942434012233945, 0.05614240149852868, 0.0027205569008097595, 0.9405707176163196, 0.00024732335461906906, 0.9974491277631854, 0.0025412716630909184, 0.99536247988233, 0.0005039810024720659, 0.002519905012360329, 0.0015119430074161974, 0.9846324811717921, 6.766303471493899e-05, 0.008187227200507617, 0.007104618645068593, 0.9887975735227303, 0.008984264430724968, 0.002113944571935287, 0.8739586044118749, 0.09931347777407669, 0.022332111758927516, 0.004402002798634751, 0.3522089035682215, 0.31378825690158596, 0.1837748313972606, 0.15020587170744462, 0.4136458292905683, 0.30331039218900585, 0.13111264984257268, 0.15193204981757477, 0.00026881556610944366, 0.0009677360379939972, 5.376311322188873e-05, 0.9986498280965832, 0.16542958102617514, 0.19675091503379763, 0.01625936453514407, 0.6215740791090154, 0.9946003185881125, 0.0014766070477448118, 0.0037969895513438015, 0.005922045892347169, 0.0068331298757851955, 0.9871594960551012, 0.09750169251200527, 0.08310502691341116, 0.5500405444348359, 0.26936051436758895, 0.9539221538766656, 0.0026377937890003323, 0.008712712818213219, 0.03469098498261043, 0.6849908646247425, 0.07475963236279412, 0.23968947161224669, 0.0005503776615665826, 0.9688798737840226, 0.02222105685075154, 0.0034829242712776714, 0.005433361863193167, 0.2635973473225506, 0.3429024789291252, 0.21765108938885777, 0.17584299166544992, 0.0006613982589556814, 0.0006613982589556814, 0.0006613982589556814, 0.9980499727641233, 0.012012458261830587, 0.0005005190942429412, 0.006757007772279705, 0.9805169056219217, 0.9940648244759424, 0.004309529585878363, 0.0007182549309797272, 0.0007182549309797272, 0.002413066264913031, 0.9975012672584241, 0.00030163328311412886, 0.9998626485523134, 0.9919207969980134, 0.005290244250656072, 0.0005290244250656072, 0.0021160977002624287, 0.9960588576543661, 0.0030330659490084228, 0.08499922872558653, 0.21162359415218046, 0.12662436542659392, 0.5767180179477811, 0.0004541177011574088, 9.082354023148176e-05, 0.9994222367072253, 9.082354023148176e-05, 0.0003970850110184865, 0.9994629727335306, 0.999589979482026, 0.0009927828689008135, 0.0004963914344504067, 0.0003309276229669378, 0.9982431746797679, 0.19394908594480748, 0.00018559721143043777, 0.8051207031852391, 0.0007423888457217511, 6.240627415783295e-05, 0.0002496250966313318, 6.240627415783295e-05, 0.999623699460168, 0.9989749204707661, 0.000940801996990205, 0.03521625822323632, 0.0042794440372540335, 0.0003566203364378361, 0.9602002558588738, 0.15831437035525428, 0.15823275098576367, 0.64511949645365, 0.038361103660578884, 0.1084022970370349, 0.00015014168564686273, 0.8915413293710709, 0.3330877029884416, 0.2943991110094809, 0.31484771091838315, 0.05766237683344678, 0.9949154005831273, 0.0036903390229344486, 0.0003690339022934449, 0.0011071017068803345, 0.08240228776934243, 0.0005530354883848485, 0.9174858752304637, 0.9952266518237785, 0.004626570178932855, 0.06678990200002245, 0.0036167816967521186, 0.929754014845078, 0.9935385858813128, 0.0003499607558581588, 0.0059493328495887, 0.0003499607558581588, 0.3655484731164469, 0.24933040089466993, 0.19232229381791816, 0.19280269921463236, 0.9976016969328919, 0.00224180156614133, 0.7530828770641642, 0.22483919852623618, 0.010711244422138003, 0.011389784792771179, 0.06374769792660258, 0.9323100821765626, 0.0013082549947623662, 0.0024975777172736085, 0.00028872550714643605, 0.9992789802338151, 0.0005774510142928721, 0.01304711857905393, 0.9866883425409534, 0.00027181497039695685, 0.000973265304989181, 0.9297927880329976, 0.000973265304989181, 0.06823671193868591, 0.2082508535101631, 0.017149071507971035, 0.7725571817947346, 0.001952617052887791, 0.006295975373585305, 0.9929277828758492, 0.0006558307680818026, 0.011950711919538719, 4.306562853887827e-05, 0.9878393874247896, 0.00017226251415551307, 0.9908642474965964, 0.008147372288968387, 0.0009585143869374573, 0.717023507483886, 0.16936912290727313, 0.019751754893373233, 0.09388609484559347, 0.9837628395996179, 6.004411862790636e-05, 0.015791603199139373, 0.0003602647117674382, 0.979365576968049, 0.018001419603720342, 0.0026505157698729336, 0.0001104381570780389, 0.0003267431046936807, 0.0004356574729249076, 0.9992893285215068, 0.006964416829316112, 0.0001832741270872661, 0.0001832741270872661, 0.9926126723046331, 0.0008793744309618694, 0.8573625897368551, 0.14174416609066634, 2.748045096755842e-05, 0.17589541900057318, 0.00011481424216747596, 0.8239070017938075, 0.00011481424216747596, 0.19458803014765985, 0.00013503680093522545, 0.8050894071758141, 0.0010375078995117546, 0.0005187539497558773, 0.0005187539497558773, 0.9980825993303081, 0.9989588222981217, 0.9997084340091358, 0.150250651879166, 0.2915810424222776, 0.5490420852341472, 0.009143267869455742, 0.9691320828919291, 5.044972878688399e-05, 0.00667377840809351, 0.024143798776580197, 0.017852257142988312, 0.0009899382465582303, 0.9807284839947448, 0.0004226702625754242, 0.015869743819111985, 0.04276761469896281, 0.9408875233771817, 0.00026897870879850823, 0.002144248952469769, 0.0004764997672155042, 0.9973140127820502, 0.0002382498836077521, 0.011219355757974166, 0.9879266042438363, 0.12047997128332438, 8.891510795817298e-05, 0.8793704177063307, 8.891510795817298e-05, 0.12106577357086369, 0.6485424212857752, 0.22793696064462332, 0.002470730072874769, 0.059680782924299736, 0.21715428734210113, 0.01842775051697676, 0.7046520510184863, 0.04422179468346595, 0.9355723689760179, 0.019296783134603326, 0.0008040326306084719, 0.9993487565288293, 0.9995293076782372, 0.12618902078640043, 0.0873915338040136, 0.7612548998888765, 0.025191153872331323, 0.1910206975055527, 0.09196382477335341, 0.6506642508782889, 0.0663656467436571, 0.0020403803429696397, 0.9942930363625129, 0.0017264756748204644, 0.0018834280088950522, 0.0004140618591246597, 0.9989242351382416, 0.0006210927886869896, 0.9998877850896434, 0.8736443614146503, 0.0001299485886382047, 0.0002598971772764094, 0.12605013097905857, 0.9718241093724069, 0.00031026390274480227, 0.027846185271346004, 0.0014429411095186627, 0.0002885882219037325, 0.9979380713431071, 0.000577176443807465, 0.01626348783361799, 0.0001676648230269896, 0.983521851876321, 0.0011441940678887643, 0.9988814212668913, 0.23900689670620687, 0.6261259843495777, 0.010925385947456205, 0.1239524457234593, 0.3256773770143529, 0.3668141460387198, 0.18757644185205277, 0.11994837627339179, 0.008454406915855908, 0.0002915312729605485, 0.0002915312729605485, 0.991206328065865, 0.993889422160096, 0.006014823421448172, 0.00036866175827775894, 0.9994420266910045, 0.00018433087913887947, 0.8220636161883268, 0.0026632730546058106, 0.1531875205112157, 0.02199666263618873, 0.4946408248215177, 0.31526743771507637, 0.06784643457579215, 0.12223785330403068, 0.4035989050820829, 0.3414225245616874, 0.15902752366918418, 0.09594765545298373, 0.6533062634971571, 0.24288424500051103, 0.07583208823914736, 0.027968488818240662, 0.0802287693333474, 0.03495444307054555, 0.8808519653777478, 0.003994793493776634, 0.001506628747409256, 0.9980159927630148, 0.000376657186852314, 0.00012555239561743803, 0.2821022352573089, 0.4126626034991488, 0.16886564816237976, 0.13636752928192178, 0.7665929389569608, 0.060759931190714656, 0.13185213494431733, 0.040789344669908696, 0.00035840550587732425, 0.9995929558918573, 0.0003127427286101647, 0.9995257606380863, 0.13230048820528406, 0.010064168120401961, 0.17828907100712083, 0.6792980230671309, 0.6908006610374874, 0.1819435333329916, 0.004774352278266053, 0.12246768750994085, 0.31584111013539334, 0.2803667276893653, 0.19010341700092395, 0.21368325832734453, 0.022084658822511267, 0.06454639975445303, 0.9028527274295715, 0.010586975621100761, 0.13532905537858503, 0.05906341751383962, 0.7597770370436544, 0.045774148573225704, 0.3131397685960587, 0.38713154230245816, 0.17045729980781663, 0.12927109248975088, 0.32583181847506365, 0.3365871210413077, 0.1705421318961406, 0.167034651627582, 0.9996639320010318, 0.00019150650038333942, 0.3897864542033636, 0.34873272058158167, 0.22566584190721053, 0.03581885202268054], \"Term\": [\"'m\", \"'m\", \"'m\", \"'m\", \"'s\", \"'s\", \"'s\", \"'s\", \"'ve\", \"'ve\", \"'ve\", \"'ve\", \"acid\", \"acne\", \"acne\", \"acne\", \"also\", \"also\", \"also\", \"also\", \"amazing\", \"amazing\", \"amazing\", \"amazing\", \"apply\", \"apply\", \"apply\", \"apply\", \"area\", \"area\", \"area\", \"area\", \"babyliss\", \"barrel\", \"base\", \"base\", \"base\", \"base\", \"bath\", \"bath\", \"bath\", \"bath\", \"beard\", \"beard\", \"beard\", \"beautiful\", \"beautiful\", \"beautiful\", \"beautiful\", \"best\", \"best\", \"best\", \"best\", \"blade\", \"blade\", \"blade\", \"blend\", \"blend\", \"blend\", \"blend\", \"blow\", \"blow\", \"blow\", \"blush\", \"blush\", \"blush\", \"bottle\", \"bottle\", \"bottle\", \"bottle\", \"breakout\", \"breakout\", \"breakout\", \"brown\", \"brown\", \"brown\", \"brown\", \"brush\", \"brush\", \"brush\", \"brush\", \"bump\", \"bump\", \"bump\", \"button\", \"button\", \"button\", \"buy\", \"buy\", \"buy\", \"buy\", \"chi\", \"chip\", \"chip\", \"christmas\", \"christmas\", \"christmas\", \"christmas\", \"clarisonic\", \"clean\", \"clean\", \"clean\", \"clean\", \"cleanser\", \"cleanser\", \"cleanser\", \"cleansing\", \"cleansing\", \"cleansing\", \"cleared\", \"cnd\", \"coat\", \"coat\", \"coat\", \"coat\", \"cologne\", \"cologne\", \"color\", \"color\", \"color\", \"color\", \"comb\", \"comb\", \"comb\", \"concealer\", \"concealer\", \"conditioner\", \"conditioner\", \"conditioner\", \"cord\", \"cord\", \"cord\", \"coverage\", \"coverage\", \"coverage\", \"coverage\", \"cream\", \"cream\", \"cream\", \"cream\", \"curl\", \"curl\", \"curl\", \"curl\", \"curler\", \"curler\", \"curler\", \"curling\", \"curling\", \"curly\", \"curly\", \"curly\", \"damaged\", \"damaged\", \"damaged\", \"damaged\", \"dark\", \"dark\", \"dark\", \"dark\", \"darker\", \"darker\", \"darker\", \"darker\", \"day\", \"day\", \"day\", \"day\", \"de\", \"de\", \"de\", \"de\", \"dermatologist\", \"dermatologist\", \"dermatologist\", \"dermatologist\", \"difference\", \"difference\", \"difference\", \"difference\", \"doe\", \"doe\", \"doe\", \"doe\", \"dry\", \"dry\", \"dry\", \"dry\", \"dryer\", \"dryer\", \"dryer\", \"dryer\", \"easy\", \"easy\", \"easy\", \"easy\", \"excellent\", \"excellent\", \"excellent\", \"excellent\", \"eye\", \"eye\", \"eye\", \"eye\", \"eyeliner\", \"eyeliner\", \"face\", \"face\", \"face\", \"face\", \"facial\", \"facial\", \"facial\", \"favorite\", \"favorite\", \"favorite\", \"favorite\", \"feel\", \"feel\", \"feel\", \"feel\", \"fine\", \"fine\", \"fine\", \"fine\", \"flat\", \"flat\", \"flat\", \"floral\", \"floral\", \"forehead\", \"forehead\", \"forehead\", \"foundation\", \"foundation\", \"foundation\", \"fragrance\", \"fragrance\", \"fragrance\", \"fragrance\", \"fresh\", \"fresh\", \"fresh\", \"fresh\", \"frizz\", \"frizz\", \"frizz\", \"frizzy\", \"frizzy\", \"gift\", \"gift\", \"gift\", \"gift\", \"gloss\", \"gloss\", \"go\", \"go\", \"go\", \"go\", \"good\", \"good\", \"good\", \"good\", \"great\", \"great\", \"great\", \"great\", \"ha\", \"ha\", \"ha\", \"ha\", \"hair\", \"hair\", \"hair\", \"hair\", \"hairdresser\", \"hairdresser\", \"hairspray\", \"hairspray\", \"hairspray\", \"hairspray\", \"heat\", \"heat\", \"heat\", \"heat\", \"hold\", \"hold\", \"hold\", \"hold\", \"hot\", \"hot\", \"hot\", \"hot\", \"husband\", \"husband\", \"husband\", \"husband\", \"improvement\", \"improvement\", \"improvement\", \"improvement\", \"ingredient\", \"ingredient\", \"ingredient\", \"ingredient\", \"iron\", \"iron\", \"irritate\", \"irritate\", \"irritate\", \"irritated\", \"irritated\", \"irritation\", \"irritation\", \"irritation\", \"irritation\", \"jack\", \"jack\", \"jack\", \"jack\", \"la\", \"la\", \"lash\", \"lash\", \"lash\", \"lash\", \"last\", \"last\", \"last\", \"last\", \"lather\", \"lather\", \"lather\", \"lather\", \"leg\", \"leg\", \"leg\", \"leg\", \"light\", \"light\", \"light\", \"light\", \"line\", \"line\", \"line\", \"line\", \"liner\", \"liner\", \"liner\", \"lip\", \"lip\", \"lip\", \"lip\", \"lipstick\", \"lipstick\", \"lipstick\", \"little\", \"little\", \"little\", \"little\", \"look\", \"look\", \"look\", \"look\", \"love\", \"love\", \"love\", \"love\", \"make\", \"make\", \"make\", \"make\", \"makeup\", \"makeup\", \"makeup\", \"makeup\", \"man\", \"man\", \"man\", \"man\", \"manicure\", \"manicure\", \"mascara\", \"mascara\", \"mascara\", \"mascara\", \"mask\", \"mask\", \"mask\", \"mask\", \"matte\", \"matte\", \"matte\", \"matte\", \"men\", \"men\", \"men\", \"men\", \"mitchell\", \"mitchell\", \"moisturize\", \"moisturize\", \"moisturize\", \"moisturize\", \"moisturizer\", \"moisturizer\", \"moisturizer\", \"moisturizer\", \"moisturizers\", \"moisturizers\", \"moisturizers\", \"morning\", \"morning\", \"morning\", \"morning\", \"much\", \"much\", \"much\", \"much\", \"n't\", \"n't\", \"n't\", \"n't\", \"nail\", \"nail\", \"nail\", \"nail\", \"natural\", \"natural\", \"natural\", \"natural\", \"neck\", \"neck\", \"neck\", \"neutral\", \"neutral\", \"neutral\", \"nice\", \"nice\", \"nice\", \"nice\", \"night\", \"night\", \"night\", \"night\", \"oil\", \"oil\", \"oil\", \"oil\", \"oily\", \"oily\", \"oily\", \"oily\", \"one\", \"one\", \"one\", \"one\", \"opi\", \"opi\", \"opi\", \"opi\", \"orange\", \"orange\", \"orange\", \"orange\", \"overnight\", \"overnight\", \"overnight\", \"overnight\", \"overpowering\", \"overpowering\", \"overpowering\", \"palette\", \"patch\", \"patch\", \"patch\", \"patch\", \"paul\", \"paul\", \"perfect\", \"perfect\", \"perfect\", \"perfect\", \"perfume\", \"perfume\", \"perfume\", \"perfume\", \"pigmented\", \"pigmented\", \"pimple\", \"pink\", \"pink\", \"pink\", \"pink\", \"pleasant\", \"pleasant\", \"pleasant\", \"pleasant\", \"polish\", \"polish\", \"polish\", \"polish\", \"pore\", \"pore\", \"powder\", \"powder\", \"powder\", \"powder\", \"price\", \"price\", \"price\", \"price\", \"primer\", \"primer\", \"primer\", \"product\", \"product\", \"product\", \"product\", \"prone\", \"prone\", \"prone\", \"prone\", \"proraso\", \"proraso\", \"proraso\", \"rash\", \"rash\", \"razor\", \"razor\", \"razor\", \"reaction\", \"reaction\", \"reaction\", \"reaction\", \"really\", \"really\", \"really\", \"really\", \"redness\", \"redness\", \"result\", \"result\", \"result\", \"result\", \"return\", \"return\", \"return\", \"return\", \"roller\", \"roller\", \"roller\", \"root\", \"root\", \"root\", \"salon\", \"salon\", \"salon\", \"salon\", \"sample\", \"sample\", \"sample\", \"sample\", \"scalp\", \"scalp\", \"scalp\", \"scent\", \"scent\", \"scent\", \"scent\", \"scrub\", \"scrub\", \"scrub\", \"see\", \"see\", \"see\", \"see\", \"sensitive\", \"sensitive\", \"sensitive\", \"sensitive\", \"serum\", \"serum\", \"serum\", \"serum\", \"shade\", \"shade\", \"shade\", \"shadow\", \"shadow\", \"shadow\", \"shadow\", \"shampoo\", \"shampoo\", \"shampoo\", \"shampoo\", \"shave\", \"shave\", \"shave\", \"shave\", \"shaving\", \"shaving\", \"shaving\", \"sheer\", \"sheer\", \"sheer\", \"sheer\", \"shellac\", \"shimmer\", \"size\", \"size\", \"size\", \"size\", \"skin\", \"skin\", \"skin\", \"skin\", \"smell\", \"smell\", \"smell\", \"smell\", \"smelled\", \"smelled\", \"smelled\", \"smelled\", \"smelling\", \"smelling\", \"smelling\", \"smelling\", \"smudge\", \"smudge\", \"soap\", \"soap\", \"soap\", \"soap\", \"spray\", \"spray\", \"spray\", \"spray\", \"stay\", \"stay\", \"stay\", \"stay\", \"straight\", \"straight\", \"straight\", \"straight\", \"straighten\", \"straightener\", \"strong\", \"strong\", \"strong\", \"strong\", \"stuff\", \"stuff\", \"stuff\", \"stuff\", \"style\", \"style\", \"style\", \"style\", \"styling\", \"styling\", \"styling\", \"stylist\", \"sun\", \"sun\", \"sun\", \"sun\", \"sunscreen\", \"sunscreen\", \"sunscreen\", \"sweet\", \"sweet\", \"sweet\", \"sweet\", \"tan\", \"tan\", \"tan\", \"temperature\", \"temperature\", \"thick\", \"thick\", \"thick\", \"thick\", \"time\", \"time\", \"time\", \"time\", \"tint\", \"tint\", \"tint\", \"tint\", \"toner\", \"toner\", \"tool\", \"tool\", \"tool\", \"tube\", \"tube\", \"tube\", \"tube\", \"use\", \"use\", \"use\", \"use\", \"used\", \"used\", \"used\", \"used\", \"using\", \"using\", \"using\", \"using\", \"value\", \"value\", \"value\", \"value\", \"volume\", \"volume\", \"volume\", \"volume\", \"wa\", \"wa\", \"wa\", \"wa\", \"water\", \"water\", \"water\", \"water\", \"wave\", \"wave\", \"wavy\", \"wavy\", \"wear\", \"wear\", \"wear\", \"wear\", \"week\", \"week\", \"week\", \"week\", \"well\", \"well\", \"well\", \"well\", \"wife\", \"wife\", \"wife\", \"wife\", \"wonderful\", \"wonderful\", \"wonderful\", \"wonderful\", \"work\", \"work\", \"work\", \"work\", \"would\", \"would\", \"would\", \"would\", \"wrinkle\", \"wrinkle\", \"year\", \"year\", \"year\", \"year\"]}, \"R\": 30, \"lambda.step\": 0.01, \"plot.opts\": {\"xlab\": \"PC1\", \"ylab\": \"PC2\"}, \"topic.order\": [4, 3, 2, 1]};\n",
              "\n",
              "function LDAvis_load_lib(url, callback){\n",
              "  var s = document.createElement('script');\n",
              "  s.src = url;\n",
              "  s.async = true;\n",
              "  s.onreadystatechange = s.onload = callback;\n",
              "  s.onerror = function(){console.warn(\"failed to load library \" + url);};\n",
              "  document.getElementsByTagName(\"head\")[0].appendChild(s);\n",
              "}\n",
              "\n",
              "if(typeof(LDAvis) !== \"undefined\"){\n",
              "   // already loaded: just create the visualization\n",
              "   !function(LDAvis){\n",
              "       new LDAvis(\"#\" + \"ldavis_el2451398902841137363816256487\", ldavis_el2451398902841137363816256487_data);\n",
              "   }(LDAvis);\n",
              "}else if(typeof define === \"function\" && define.amd){\n",
              "   // require.js is available: use it to load d3/LDAvis\n",
              "   require.config({paths: {d3: \"https://cdnjs.cloudflare.com/ajax/libs/d3/3.5.5/d3.min\"}});\n",
              "   require([\"d3\"], function(d3){\n",
              "      window.d3 = d3;\n",
              "      LDAvis_load_lib(\"https://cdn.rawgit.com/bmabey/pyLDAvis/files/ldavis.v1.0.0.js\", function(){\n",
              "        new LDAvis(\"#\" + \"ldavis_el2451398902841137363816256487\", ldavis_el2451398902841137363816256487_data);\n",
              "      });\n",
              "    });\n",
              "}else{\n",
              "    // require.js not available: dynamically load d3 & LDAvis\n",
              "    LDAvis_load_lib(\"https://cdnjs.cloudflare.com/ajax/libs/d3/3.5.5/d3.min.js\", function(){\n",
              "         LDAvis_load_lib(\"https://cdn.rawgit.com/bmabey/pyLDAvis/files/ldavis.v1.0.0.js\", function(){\n",
              "                 new LDAvis(\"#\" + \"ldavis_el2451398902841137363816256487\", ldavis_el2451398902841137363816256487_data);\n",
              "            })\n",
              "         });\n",
              "}\n",
              "</script>"
            ],
            "text/plain": [
              "<IPython.core.display.HTML object>"
            ]
          },
          "metadata": {
            "tags": []
          },
          "execution_count": 40
        }
      ]
    },
    {
      "cell_type": "code",
      "metadata": {
        "id": "lzbw48GCKn5V",
        "colab": {
          "base_uri": "https://localhost:8080/"
        },
        "outputId": "abeafd10-42a6-410a-cdc4-ffae094a4893"
      },
      "source": [
        "lda[corpus][0]"
      ],
      "execution_count": null,
      "outputs": [
        {
          "output_type": "execute_result",
          "data": {
            "text/plain": [
              "[(0, 0.01624927), (1, 0.26350155), (2, 0.016715556), (3, 0.7035336)]"
            ]
          },
          "metadata": {
            "tags": []
          },
          "execution_count": 41
        }
      ]
    },
    {
      "cell_type": "code",
      "metadata": {
        "id": "EQkSbFzMKn5X",
        "colab": {
          "base_uri": "https://localhost:8080/"
        },
        "outputId": "3489d1be-7ccb-47b3-dd65-5b9ab921e17c"
      },
      "source": [
        "sorted(lda[corpus][0])[0][0]"
      ],
      "execution_count": null,
      "outputs": [
        {
          "output_type": "execute_result",
          "data": {
            "text/plain": [
              "0"
            ]
          },
          "metadata": {
            "tags": []
          },
          "execution_count": 42
        }
      ]
    },
    {
      "cell_type": "code",
      "metadata": {
        "id": "CLvcPaR3Kn5Z"
      },
      "source": [
        "lux['topic'] = [sorted(lda[corpus][text])[0][0] for text in range(len(lux['clean_review']))]"
      ],
      "execution_count": null,
      "outputs": []
    },
    {
      "cell_type": "code",
      "metadata": {
        "id": "OiZQ3-m6Kn5a",
        "colab": {
          "base_uri": "https://localhost:8080/"
        },
        "outputId": "1e22714a-901c-44ab-d3fe-1f6120a03ddb"
      },
      "source": [
        "lux.topic.value_counts()"
      ],
      "execution_count": null,
      "outputs": [
        {
          "output_type": "execute_result",
          "data": {
            "text/plain": [
              "0    509999\n",
              "1     36431\n",
              "2     18981\n",
              "3      9217\n",
              "Name: topic, dtype: int64"
            ]
          },
          "metadata": {
            "tags": []
          },
          "execution_count": 44
        }
      ]
    },
    {
      "cell_type": "markdown",
      "metadata": {
        "id": "OIArFqP3Kn5l"
      },
      "source": [
        "# Word embedding & Topic modelling (Spacy)"
      ]
    },
    {
      "cell_type": "markdown",
      "metadata": {
        "id": "6yX4MlmMKn5m"
      },
      "source": [
        "To use word embeddings, I have two primary options:\n",
        "\n",
        "\t• Use pre-trained models that I can download online (example: Spacy)\n",
        "\t• Train custom models using your own data and the Word2Vec (or another) algorithm (example: Gensim)."
      ]
    },
    {
      "cell_type": "code",
      "metadata": {
        "id": "LAhVLkotKn5m",
        "colab": {
          "base_uri": "https://localhost:8080/"
        },
        "outputId": "19b64fe5-1859-4fcf-fe35-2a521e7e9397"
      },
      "source": [
        "#Using Spacy's pre-trained model (english version):\n",
        "!python -m spacy download en_core_web_md -qq\n",
        "\n",
        "#The code snippet above installs the larger-than-standard en_core_web_md library, \n",
        "#which includes 20k unique vectors with 300 dimensions.\n",
        "#source: https://spacy.io/models/en"
      ],
      "execution_count": null,
      "outputs": [
        {
          "output_type": "stream",
          "text": [
            "\u001b[K     |████████████████████████████████| 96.4MB 1.1MB/s \n",
            "\u001b[?25h  Building wheel for en-core-web-md (setup.py) ... \u001b[?25l\u001b[?25hdone\n",
            "\u001b[38;5;2m✔ Download and installation successful\u001b[0m\n",
            "You can now load the model via spacy.load('en_core_web_md')\n"
          ],
          "name": "stdout"
        }
      ]
    },
    {
      "cell_type": "code",
      "metadata": {
        "id": "NFse7XqTKn5o"
      },
      "source": [
        "import en_core_web_md\n",
        "nlp2 = en_core_web_md.load(disable=[\"tagger\", \"parser\", \"ner\"])"
      ],
      "execution_count": null,
      "outputs": []
    },
    {
      "cell_type": "code",
      "metadata": {
        "id": "KkY3zV7qKn5p"
      },
      "source": [
        "tokens"
      ],
      "execution_count": null,
      "outputs": []
    },
    {
      "cell_type": "code",
      "metadata": {
        "id": "7ACYrPo_Kn5r"
      },
      "source": [
        "spacy_embedding_dic = {}\n",
        "\n",
        "for l in tokens:\n",
        "    for word in l:\n",
        "        spacy_embedding_dic[word] = nlp2(word).vector"
      ],
      "execution_count": null,
      "outputs": []
    },
    {
      "cell_type": "code",
      "metadata": {
        "id": "7mQhCa-RKn5s"
      },
      "source": [
        "spacy_embedding_dic['fl']"
      ],
      "execution_count": null,
      "outputs": []
    },
    {
      "cell_type": "code",
      "metadata": {
        "id": "qS5h8FN6Kn5u",
        "colab": {
          "base_uri": "https://localhost:8080/",
          "height": 263
        },
        "outputId": "45275bc9-6afc-4c22-99f2-2de7610cfac6"
      },
      "source": [
        "s_embedding = pd.DataFrame.from_dict(spacy_embedding_dic)\n",
        "s_embedding.head()"
      ],
      "execution_count": null,
      "outputs": [
        {
          "output_type": "execute_result",
          "data": {
            "text/html": [
              "<div>\n",
              "<style scoped>\n",
              "    .dataframe tbody tr th:only-of-type {\n",
              "        vertical-align: middle;\n",
              "    }\n",
              "\n",
              "    .dataframe tbody tr th {\n",
              "        vertical-align: top;\n",
              "    }\n",
              "\n",
              "    .dataframe thead th {\n",
              "        text-align: right;\n",
              "    }\n",
              "</style>\n",
              "<table border=\"1\" class=\"dataframe\">\n",
              "  <thead>\n",
              "    <tr style=\"text-align: right;\">\n",
              "      <th></th>\n",
              "      <th>hand</th>\n",
              "      <th>dispenser</th>\n",
              "      <th>cream</th>\n",
              "      <th>year</th>\n",
              "      <th>people</th>\n",
              "      <th>crack</th>\n",
              "      <th>lot</th>\n",
              "      <th>lotion</th>\n",
              "      <th>water</th>\n",
              "      <th>scent</th>\n",
              "      <th>money</th>\n",
              "      <th>skin</th>\n",
              "      <th>non-</th>\n",
              "      <th>thing</th>\n",
              "      <th>work</th>\n",
              "      <th>wash</th>\n",
              "      <th>moisturizer</th>\n",
              "      <th>gardner</th>\n",
              "      <th>day</th>\n",
              "      <th>healthcare</th>\n",
              "      <th>care</th>\n",
              "      <th>life</th>\n",
              "      <th>desk</th>\n",
              "      <th>therapy</th>\n",
              "      <th>discomfort</th>\n",
              "      <th>product</th>\n",
              "      <th>smell</th>\n",
              "      <th>man</th>\n",
              "      <th>woman</th>\n",
              "      <th>fruity</th>\n",
              "      <th>perfume</th>\n",
              "      <th>way</th>\n",
              "      <th>wife</th>\n",
              "      <th>soap</th>\n",
              "      <th>application</th>\n",
              "      <th>packaging</th>\n",
              "      <th>review</th>\n",
              "      <th>time</th>\n",
              "      <th>nail</th>\n",
              "      <th>pump</th>\n",
              "      <th>...</th>\n",
              "      <th>wprse</th>\n",
              "      <th>formulae</th>\n",
              "      <th>spf-</th>\n",
              "      <th>fragranc</th>\n",
              "      <th>4hs</th>\n",
              "      <th>subtke</th>\n",
              "      <th>proudivts</th>\n",
              "      <th>sugarfree</th>\n",
              "      <th>zealot</th>\n",
              "      <th>madd</th>\n",
              "      <th>1i</th>\n",
              "      <th>faming</th>\n",
              "      <th>debri</th>\n",
              "      <th>niacinmide</th>\n",
              "      <th>lotionit</th>\n",
              "      <th>forgetting</th>\n",
              "      <th>lovely</th>\n",
              "      <th>oramhe</th>\n",
              "      <th>perfume&amp;nbsp;&lt;a</th>\n",
              "      <th>durastic</th>\n",
              "      <th>chistill</th>\n",
              "      <th>instructionsjust</th>\n",
              "      <th>rightworthless</th>\n",
              "      <th>swank</th>\n",
              "      <th>carcter</th>\n",
              "      <th>hugger</th>\n",
              "      <th>assemblage</th>\n",
              "      <th>parfrum</th>\n",
              "      <th>concleaer</th>\n",
              "      <th>apf</th>\n",
              "      <th>ceramicide</th>\n",
              "      <th>seant</th>\n",
              "      <th>occasions</th>\n",
              "      <th>devolumizing</th>\n",
              "      <th>stylability</th>\n",
              "      <th>gotto</th>\n",
              "      <th>-update</th>\n",
              "      <th>food(you</th>\n",
              "      <th>loprox</th>\n",
              "      <th>aesthetics</th>\n",
              "    </tr>\n",
              "  </thead>\n",
              "  <tbody>\n",
              "    <tr>\n",
              "      <th>0</th>\n",
              "      <td>-0.532930</td>\n",
              "      <td>-0.014736</td>\n",
              "      <td>-0.11062</td>\n",
              "      <td>-0.110060</td>\n",
              "      <td>-0.19686</td>\n",
              "      <td>-0.040324</td>\n",
              "      <td>-0.333550</td>\n",
              "      <td>-0.397890</td>\n",
              "      <td>-0.036665</td>\n",
              "      <td>0.15625</td>\n",
              "      <td>-0.750730</td>\n",
              "      <td>-0.19136</td>\n",
              "      <td>0.0</td>\n",
              "      <td>-0.151060</td>\n",
              "      <td>-0.000030</td>\n",
              "      <td>-0.196820</td>\n",
              "      <td>-0.238740</td>\n",
              "      <td>-0.658970</td>\n",
              "      <td>-0.037723</td>\n",
              "      <td>-0.175470</td>\n",
              "      <td>-0.175700</td>\n",
              "      <td>0.093590</td>\n",
              "      <td>-0.221970</td>\n",
              "      <td>0.100530</td>\n",
              "      <td>-0.452900</td>\n",
              "      <td>-0.479580</td>\n",
              "      <td>-0.066395</td>\n",
              "      <td>-0.173100</td>\n",
              "      <td>0.025567</td>\n",
              "      <td>-0.507110</td>\n",
              "      <td>0.038622</td>\n",
              "      <td>-0.14031</td>\n",
              "      <td>-0.053776</td>\n",
              "      <td>-0.22263</td>\n",
              "      <td>0.089798</td>\n",
              "      <td>-0.37755</td>\n",
              "      <td>-0.52103</td>\n",
              "      <td>0.172430</td>\n",
              "      <td>0.012847</td>\n",
              "      <td>-0.135770</td>\n",
              "      <td>...</td>\n",
              "      <td>0.0</td>\n",
              "      <td>-0.45571</td>\n",
              "      <td>0.0</td>\n",
              "      <td>0.0</td>\n",
              "      <td>-0.202400</td>\n",
              "      <td>0.0</td>\n",
              "      <td>0.0</td>\n",
              "      <td>-0.176530</td>\n",
              "      <td>-0.36608</td>\n",
              "      <td>-0.099878</td>\n",
              "      <td>-0.025202</td>\n",
              "      <td>-0.267480</td>\n",
              "      <td>0.110220</td>\n",
              "      <td>0.0</td>\n",
              "      <td>0.0</td>\n",
              "      <td>0.256880</td>\n",
              "      <td>0.32202</td>\n",
              "      <td>0.0</td>\n",
              "      <td>0.0</td>\n",
              "      <td>0.0</td>\n",
              "      <td>0.0</td>\n",
              "      <td>0.0</td>\n",
              "      <td>0.0</td>\n",
              "      <td>0.065841</td>\n",
              "      <td>0.0</td>\n",
              "      <td>0.40389</td>\n",
              "      <td>-0.075805</td>\n",
              "      <td>0.0</td>\n",
              "      <td>0.0</td>\n",
              "      <td>0.15133</td>\n",
              "      <td>0.0</td>\n",
              "      <td>0.0</td>\n",
              "      <td>0.088235</td>\n",
              "      <td>0.0</td>\n",
              "      <td>0.0</td>\n",
              "      <td>0.092588</td>\n",
              "      <td>0.0</td>\n",
              "      <td>0.0</td>\n",
              "      <td>0.0</td>\n",
              "      <td>0.097821</td>\n",
              "    </tr>\n",
              "    <tr>\n",
              "      <th>1</th>\n",
              "      <td>-0.201220</td>\n",
              "      <td>0.486990</td>\n",
              "      <td>-0.10210</td>\n",
              "      <td>0.196960</td>\n",
              "      <td>0.11579</td>\n",
              "      <td>-0.389640</td>\n",
              "      <td>0.496110</td>\n",
              "      <td>-0.579400</td>\n",
              "      <td>0.201060</td>\n",
              "      <td>0.46364</td>\n",
              "      <td>0.081650</td>\n",
              "      <td>-0.32528</td>\n",
              "      <td>0.0</td>\n",
              "      <td>0.121380</td>\n",
              "      <td>0.084473</td>\n",
              "      <td>0.043767</td>\n",
              "      <td>-0.618110</td>\n",
              "      <td>0.286340</td>\n",
              "      <td>0.278650</td>\n",
              "      <td>-0.170950</td>\n",
              "      <td>-0.061982</td>\n",
              "      <td>0.508770</td>\n",
              "      <td>-0.422700</td>\n",
              "      <td>0.443810</td>\n",
              "      <td>0.008826</td>\n",
              "      <td>0.456380</td>\n",
              "      <td>0.087068</td>\n",
              "      <td>0.206630</td>\n",
              "      <td>0.278850</td>\n",
              "      <td>0.081616</td>\n",
              "      <td>0.322740</td>\n",
              "      <td>0.21403</td>\n",
              "      <td>0.052681</td>\n",
              "      <td>-0.18514</td>\n",
              "      <td>-0.087491</td>\n",
              "      <td>0.14666</td>\n",
              "      <td>0.15400</td>\n",
              "      <td>0.275020</td>\n",
              "      <td>-0.345250</td>\n",
              "      <td>0.419700</td>\n",
              "      <td>...</td>\n",
              "      <td>0.0</td>\n",
              "      <td>0.14962</td>\n",
              "      <td>0.0</td>\n",
              "      <td>0.0</td>\n",
              "      <td>-0.495230</td>\n",
              "      <td>0.0</td>\n",
              "      <td>0.0</td>\n",
              "      <td>-0.536690</td>\n",
              "      <td>-0.76064</td>\n",
              "      <td>-0.579120</td>\n",
              "      <td>0.801080</td>\n",
              "      <td>-0.246900</td>\n",
              "      <td>-0.341330</td>\n",
              "      <td>0.0</td>\n",
              "      <td>0.0</td>\n",
              "      <td>-0.234770</td>\n",
              "      <td>0.42380</td>\n",
              "      <td>0.0</td>\n",
              "      <td>0.0</td>\n",
              "      <td>0.0</td>\n",
              "      <td>0.0</td>\n",
              "      <td>0.0</td>\n",
              "      <td>0.0</td>\n",
              "      <td>-0.127700</td>\n",
              "      <td>0.0</td>\n",
              "      <td>-0.21008</td>\n",
              "      <td>0.079757</td>\n",
              "      <td>0.0</td>\n",
              "      <td>0.0</td>\n",
              "      <td>-0.21194</td>\n",
              "      <td>0.0</td>\n",
              "      <td>0.0</td>\n",
              "      <td>-0.117390</td>\n",
              "      <td>0.0</td>\n",
              "      <td>0.0</td>\n",
              "      <td>-0.275620</td>\n",
              "      <td>0.0</td>\n",
              "      <td>0.0</td>\n",
              "      <td>0.0</td>\n",
              "      <td>0.198950</td>\n",
              "    </tr>\n",
              "    <tr>\n",
              "      <th>2</th>\n",
              "      <td>-0.037079</td>\n",
              "      <td>-0.440700</td>\n",
              "      <td>0.33973</td>\n",
              "      <td>0.177120</td>\n",
              "      <td>-0.41091</td>\n",
              "      <td>-0.522750</td>\n",
              "      <td>-0.278580</td>\n",
              "      <td>-0.057208</td>\n",
              "      <td>0.285100</td>\n",
              "      <td>-0.55181</td>\n",
              "      <td>0.090288</td>\n",
              "      <td>-0.41742</td>\n",
              "      <td>0.0</td>\n",
              "      <td>-0.092942</td>\n",
              "      <td>-0.128650</td>\n",
              "      <td>0.101440</td>\n",
              "      <td>0.091695</td>\n",
              "      <td>-0.005828</td>\n",
              "      <td>0.113530</td>\n",
              "      <td>0.318590</td>\n",
              "      <td>-0.085616</td>\n",
              "      <td>0.011249</td>\n",
              "      <td>-0.021275</td>\n",
              "      <td>-0.057088</td>\n",
              "      <td>-0.508760</td>\n",
              "      <td>-0.045291</td>\n",
              "      <td>-0.532480</td>\n",
              "      <td>0.016543</td>\n",
              "      <td>-0.169920</td>\n",
              "      <td>-0.103460</td>\n",
              "      <td>-0.438090</td>\n",
              "      <td>-0.35163</td>\n",
              "      <td>-0.024571</td>\n",
              "      <td>0.02124</td>\n",
              "      <td>-0.148460</td>\n",
              "      <td>0.12503</td>\n",
              "      <td>-0.20265</td>\n",
              "      <td>0.050863</td>\n",
              "      <td>-0.146130</td>\n",
              "      <td>0.279760</td>\n",
              "      <td>...</td>\n",
              "      <td>0.0</td>\n",
              "      <td>-0.50013</td>\n",
              "      <td>0.0</td>\n",
              "      <td>0.0</td>\n",
              "      <td>0.640060</td>\n",
              "      <td>0.0</td>\n",
              "      <td>0.0</td>\n",
              "      <td>0.335320</td>\n",
              "      <td>0.21299</td>\n",
              "      <td>0.134810</td>\n",
              "      <td>0.354180</td>\n",
              "      <td>0.205190</td>\n",
              "      <td>-0.316970</td>\n",
              "      <td>0.0</td>\n",
              "      <td>0.0</td>\n",
              "      <td>-0.382690</td>\n",
              "      <td>-0.62690</td>\n",
              "      <td>0.0</td>\n",
              "      <td>0.0</td>\n",
              "      <td>0.0</td>\n",
              "      <td>0.0</td>\n",
              "      <td>0.0</td>\n",
              "      <td>0.0</td>\n",
              "      <td>-0.019348</td>\n",
              "      <td>0.0</td>\n",
              "      <td>-0.17013</td>\n",
              "      <td>-0.180390</td>\n",
              "      <td>0.0</td>\n",
              "      <td>0.0</td>\n",
              "      <td>-0.18116</td>\n",
              "      <td>0.0</td>\n",
              "      <td>0.0</td>\n",
              "      <td>0.015041</td>\n",
              "      <td>0.0</td>\n",
              "      <td>0.0</td>\n",
              "      <td>-0.190800</td>\n",
              "      <td>0.0</td>\n",
              "      <td>0.0</td>\n",
              "      <td>0.0</td>\n",
              "      <td>0.412880</td>\n",
              "    </tr>\n",
              "    <tr>\n",
              "      <th>3</th>\n",
              "      <td>-0.060405</td>\n",
              "      <td>-0.190980</td>\n",
              "      <td>-0.16915</td>\n",
              "      <td>-0.283180</td>\n",
              "      <td>-0.46998</td>\n",
              "      <td>0.401270</td>\n",
              "      <td>-0.205060</td>\n",
              "      <td>-0.218620</td>\n",
              "      <td>-0.432460</td>\n",
              "      <td>-0.42569</td>\n",
              "      <td>-0.347190</td>\n",
              "      <td>0.41843</td>\n",
              "      <td>0.0</td>\n",
              "      <td>-0.306910</td>\n",
              "      <td>-0.307770</td>\n",
              "      <td>-0.599840</td>\n",
              "      <td>0.079387</td>\n",
              "      <td>-0.642720</td>\n",
              "      <td>-0.145210</td>\n",
              "      <td>-0.044865</td>\n",
              "      <td>-0.384020</td>\n",
              "      <td>-0.074822</td>\n",
              "      <td>0.206380</td>\n",
              "      <td>0.190080</td>\n",
              "      <td>0.440400</td>\n",
              "      <td>-0.193270</td>\n",
              "      <td>-0.425780</td>\n",
              "      <td>-0.310260</td>\n",
              "      <td>0.273480</td>\n",
              "      <td>0.479790</td>\n",
              "      <td>-0.470910</td>\n",
              "      <td>0.08673</td>\n",
              "      <td>0.024504</td>\n",
              "      <td>-0.46381</td>\n",
              "      <td>-0.277210</td>\n",
              "      <td>-0.43476</td>\n",
              "      <td>-0.17640</td>\n",
              "      <td>-0.196050</td>\n",
              "      <td>-0.277180</td>\n",
              "      <td>-0.326870</td>\n",
              "      <td>...</td>\n",
              "      <td>0.0</td>\n",
              "      <td>-0.40349</td>\n",
              "      <td>0.0</td>\n",
              "      <td>0.0</td>\n",
              "      <td>0.079196</td>\n",
              "      <td>0.0</td>\n",
              "      <td>0.0</td>\n",
              "      <td>-0.097851</td>\n",
              "      <td>0.40079</td>\n",
              "      <td>-0.085245</td>\n",
              "      <td>0.047935</td>\n",
              "      <td>0.107370</td>\n",
              "      <td>-0.071772</td>\n",
              "      <td>0.0</td>\n",
              "      <td>0.0</td>\n",
              "      <td>-0.068662</td>\n",
              "      <td>0.14158</td>\n",
              "      <td>0.0</td>\n",
              "      <td>0.0</td>\n",
              "      <td>0.0</td>\n",
              "      <td>0.0</td>\n",
              "      <td>0.0</td>\n",
              "      <td>0.0</td>\n",
              "      <td>-0.100810</td>\n",
              "      <td>0.0</td>\n",
              "      <td>0.20967</td>\n",
              "      <td>-0.069810</td>\n",
              "      <td>0.0</td>\n",
              "      <td>0.0</td>\n",
              "      <td>0.24265</td>\n",
              "      <td>0.0</td>\n",
              "      <td>0.0</td>\n",
              "      <td>-0.227820</td>\n",
              "      <td>0.0</td>\n",
              "      <td>0.0</td>\n",
              "      <td>-0.179780</td>\n",
              "      <td>0.0</td>\n",
              "      <td>0.0</td>\n",
              "      <td>0.0</td>\n",
              "      <td>-0.108790</td>\n",
              "    </tr>\n",
              "    <tr>\n",
              "      <th>4</th>\n",
              "      <td>0.263060</td>\n",
              "      <td>-0.058423</td>\n",
              "      <td>-0.19102</td>\n",
              "      <td>0.032341</td>\n",
              "      <td>-0.29972</td>\n",
              "      <td>-0.107690</td>\n",
              "      <td>0.060868</td>\n",
              "      <td>-0.359630</td>\n",
              "      <td>-0.395450</td>\n",
              "      <td>-0.15564</td>\n",
              "      <td>-0.605980</td>\n",
              "      <td>-0.38130</td>\n",
              "      <td>0.0</td>\n",
              "      <td>-0.075544</td>\n",
              "      <td>-0.280690</td>\n",
              "      <td>0.007881</td>\n",
              "      <td>-0.592120</td>\n",
              "      <td>0.606190</td>\n",
              "      <td>-0.093572</td>\n",
              "      <td>-0.044062</td>\n",
              "      <td>-0.443430</td>\n",
              "      <td>-0.212770</td>\n",
              "      <td>0.030020</td>\n",
              "      <td>-0.675380</td>\n",
              "      <td>-0.209510</td>\n",
              "      <td>-0.138060</td>\n",
              "      <td>-0.402200</td>\n",
              "      <td>0.019719</td>\n",
              "      <td>-0.054906</td>\n",
              "      <td>0.370040</td>\n",
              "      <td>0.210770</td>\n",
              "      <td>0.10860</td>\n",
              "      <td>0.328050</td>\n",
              "      <td>-0.53721</td>\n",
              "      <td>-0.262410</td>\n",
              "      <td>0.11064</td>\n",
              "      <td>-0.17598</td>\n",
              "      <td>-0.238520</td>\n",
              "      <td>0.081268</td>\n",
              "      <td>-0.081313</td>\n",
              "      <td>...</td>\n",
              "      <td>0.0</td>\n",
              "      <td>-0.39406</td>\n",
              "      <td>0.0</td>\n",
              "      <td>0.0</td>\n",
              "      <td>0.291310</td>\n",
              "      <td>0.0</td>\n",
              "      <td>0.0</td>\n",
              "      <td>0.432340</td>\n",
              "      <td>-0.30417</td>\n",
              "      <td>0.322110</td>\n",
              "      <td>0.264890</td>\n",
              "      <td>0.093295</td>\n",
              "      <td>-0.377610</td>\n",
              "      <td>0.0</td>\n",
              "      <td>0.0</td>\n",
              "      <td>-0.180690</td>\n",
              "      <td>-0.30635</td>\n",
              "      <td>0.0</td>\n",
              "      <td>0.0</td>\n",
              "      <td>0.0</td>\n",
              "      <td>0.0</td>\n",
              "      <td>0.0</td>\n",
              "      <td>0.0</td>\n",
              "      <td>0.293810</td>\n",
              "      <td>0.0</td>\n",
              "      <td>0.49947</td>\n",
              "      <td>0.163400</td>\n",
              "      <td>0.0</td>\n",
              "      <td>0.0</td>\n",
              "      <td>0.34967</td>\n",
              "      <td>0.0</td>\n",
              "      <td>0.0</td>\n",
              "      <td>0.229540</td>\n",
              "      <td>0.0</td>\n",
              "      <td>0.0</td>\n",
              "      <td>0.022692</td>\n",
              "      <td>0.0</td>\n",
              "      <td>0.0</td>\n",
              "      <td>0.0</td>\n",
              "      <td>-0.002842</td>\n",
              "    </tr>\n",
              "  </tbody>\n",
              "</table>\n",
              "<p>5 rows × 33606 columns</p>\n",
              "</div>"
            ],
            "text/plain": [
              "       hand  dispenser    cream  ...  food(you  loprox  aesthetics\n",
              "0 -0.532930  -0.014736 -0.11062  ...       0.0     0.0    0.097821\n",
              "1 -0.201220   0.486990 -0.10210  ...       0.0     0.0    0.198950\n",
              "2 -0.037079  -0.440700  0.33973  ...       0.0     0.0    0.412880\n",
              "3 -0.060405  -0.190980 -0.16915  ...       0.0     0.0   -0.108790\n",
              "4  0.263060  -0.058423 -0.19102  ...       0.0     0.0   -0.002842\n",
              "\n",
              "[5 rows x 33606 columns]"
            ]
          },
          "metadata": {
            "tags": []
          },
          "execution_count": 55
        }
      ]
    },
    {
      "cell_type": "code",
      "metadata": {
        "id": "clrNDKrZbPy9"
      },
      "source": [
        "import umap"
      ],
      "execution_count": null,
      "outputs": []
    },
    {
      "cell_type": "code",
      "metadata": {
        "id": "xpcM-8DuKn5w"
      },
      "source": [
        "reducer = umap.UMAP()"
      ],
      "execution_count": null,
      "outputs": []
    },
    {
      "cell_type": "code",
      "metadata": {
        "id": "UU2OjYj8Kn5z",
        "scrolled": true,
        "colab": {
          "base_uri": "https://localhost:8080/"
        },
        "outputId": "b8a5455f-952c-43f0-d283-01212cc6f378"
      },
      "source": [
        "umap_spacy = reducer.fit_transform(s_embedding)\n",
        "umap_spacy.shape"
      ],
      "execution_count": null,
      "outputs": [
        {
          "output_type": "execute_result",
          "data": {
            "text/plain": [
              "(300, 2)"
            ]
          },
          "metadata": {
            "tags": []
          },
          "execution_count": 59
        }
      ]
    },
    {
      "cell_type": "code",
      "metadata": {
        "id": "-q3CGgwtKn51"
      },
      "source": [
        "mapper = umap.UMAP().fit(s_embedding)"
      ],
      "execution_count": null,
      "outputs": []
    },
    {
      "cell_type": "code",
      "metadata": {
        "id": "v7z2twCAKn52",
        "colab": {
          "base_uri": "https://localhost:8080/"
        },
        "outputId": "ae031258-1808-4e9b-9022-37772bd18639"
      },
      "source": [
        "from sklearn.cluster import KMeans\n",
        "\n",
        "# and instantiate it where we need to specify that we want it to create 3 clusters (three types of penguins)\n",
        "clusterer = KMeans(n_clusters=4)\n",
        "clusterer.fit(s_embedding) #we only fit here, since no data needs to be transformed"
      ],
      "execution_count": null,
      "outputs": [
        {
          "output_type": "execute_result",
          "data": {
            "text/plain": [
              "KMeans(algorithm='auto', copy_x=True, init='k-means++', max_iter=300,\n",
              "       n_clusters=4, n_init=10, n_jobs=None, precompute_distances='auto',\n",
              "       random_state=None, tol=0.0001, verbose=0)"
            ]
          },
          "metadata": {
            "tags": []
          },
          "execution_count": 61
        }
      ]
    },
    {
      "cell_type": "code",
      "metadata": {
        "id": "StpjL57aKn54",
        "scrolled": false,
        "colab": {
          "base_uri": "https://localhost:8080/",
          "height": 337
        },
        "outputId": "4580657a-e463-4180-ea66-ab18937b6e26"
      },
      "source": [
        "sns.scatterplot(umap_spacy[:,0], umap_spacy[:,1], hue = clusterer.labels_)"
      ],
      "execution_count": null,
      "outputs": [
        {
          "output_type": "stream",
          "text": [
            "/usr/local/lib/python3.6/dist-packages/seaborn/_decorators.py:43: FutureWarning: Pass the following variables as keyword args: x, y. From version 0.12, the only valid positional argument will be `data`, and passing other arguments without an explicit keyword will result in an error or misinterpretation.\n",
            "  FutureWarning\n"
          ],
          "name": "stderr"
        },
        {
          "output_type": "execute_result",
          "data": {
            "text/plain": [
              "<matplotlib.axes._subplots.AxesSubplot at 0x7f3a774e0320>"
            ]
          },
          "metadata": {
            "tags": []
          },
          "execution_count": 62
        },
        {
          "output_type": "display_data",
          "data": {
            "image/png": "[encoded data removed]",
            "text/plain": [
              "<Figure size 432x288 with 1 Axes>"
            ]
          },
          "metadata": {
            "tags": [],
            "needs_background": "light"
          }
        }
      ]
    }
  ]
}